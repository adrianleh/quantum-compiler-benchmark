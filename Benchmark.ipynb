{
 "cells": [
  {
   "cell_type": "markdown",
   "metadata": {
    "pycharm": {
     "name": "#%% md\n"
    }
   },
   "source": [
    "# Benchmarking different quantum compilers\n"
   ]
  },
  {
   "cell_type": "code",
   "execution_count": 34,
   "metadata": {
    "pycharm": {
     "name": "#%%\n"
    }
   },
   "outputs": [],
   "source": []
  },
  {
   "cell_type": "markdown",
   "metadata": {
    "pycharm": {
     "name": "#%% md\n"
    }
   },
   "source": [
    "## Load benchmarks"
   ]
  },
  {
   "cell_type": "code",
   "execution_count": 35,
   "metadata": {
    "pycharm": {
     "name": "#%%\n"
    }
   },
   "outputs": [],
   "source": [
    "import os\n",
    "import subprocess\n",
    "from pathlib import Path\n",
    "\n",
    "benchmark_files = list(Path(\".\").rglob(\"*.qasm\"))"
   ]
  },
  {
   "cell_type": "markdown",
   "metadata": {
    "pycharm": {
     "name": "#%% md\n"
    }
   },
   "source": [
    "## Prepare compilers"
   ]
  },
  {
   "cell_type": "code",
   "execution_count": 36,
   "metadata": {
    "pycharm": {
     "name": "#%%\n"
    }
   },
   "outputs": [],
   "source": [
    "compilers = dict()"
   ]
  },
  {
   "cell_type": "markdown",
   "metadata": {
    "pycharm": {
     "name": "#%% md\n"
    }
   },
   "source": [
    "## QisKit"
   ]
  },
  {
   "cell_type": "code",
   "execution_count": 37,
   "metadata": {
    "pycharm": {
     "name": "#%%\n"
    }
   },
   "outputs": [],
   "source": [
    "from qiskit.compiler import transpile"
   ]
  },
  {
   "cell_type": "code",
   "execution_count": 38,
   "metadata": {
    "pycharm": {
     "name": "#%%\n"
    }
   },
   "outputs": [],
   "source": [
    "def optimize_qiskit(qasm):\n",
    "    qc = QuantumCircuit.from_qasm_str(qasm)\n",
    "    opt_qc = transpile(qc, optimization_level=3, approximation_degree=1.0,\n",
    "                       basis_gates=['rz', 'rx', 'h', 't', 'tdag', 's', 'cx'])\n",
    "    return opt_qc.qasm()\n",
    "\n",
    "\n",
    "compilers['qiskit'] = optimize_qiskit"
   ]
  },
  {
   "cell_type": "markdown",
   "metadata": {
    "pycharm": {
     "name": "#%% md\n"
    }
   },
   "source": [
    "## PyZX"
   ]
  },
  {
   "cell_type": "code",
   "execution_count": 39,
   "metadata": {
    "pycharm": {
     "name": "#%%\n"
    }
   },
   "outputs": [],
   "source": [
    "import pyzx as zx"
   ]
  },
  {
   "cell_type": "code",
   "execution_count": 40,
   "metadata": {
    "pycharm": {
     "name": "#%%\n"
    }
   },
   "outputs": [],
   "source": [
    "def optimize_pyzx(qasm):\n",
    "    c = zx.Circuit.from_qasm(qasm)\n",
    "    c = c.to_graph()\n",
    "    zx.simplify.full_reduce(c)\n",
    "    c.normalize()\n",
    "    c_opt = zx.extract_circuit(c.copy(), quiet=True, optimize_cnots=3).to_basic_gates()\n",
    "    return c_opt.to_qasm()\n",
    "\n",
    "\n",
    "compilers['pyzx'] = optimize_pyzx"
   ]
  },
  {
   "cell_type": "markdown",
   "metadata": {
    "pycharm": {
     "name": "#%% md\n"
    }
   },
   "source": [
    "## VOQC"
   ]
  },
  {
   "cell_type": "markdown",
   "metadata": {
    "pycharm": {
     "name": "#%% md\n"
    }
   },
   "source": [
    "To install voqc run\n",
    "```shell\n",
    "git submodule update --remote\n",
    "cd pyvoqc\n",
    "opam pin voqc https://github.com/inQWIRE/mlvoqc.git#mapping\n",
    "./install.sh\n",
    "```\n",
    "Then copy pyvoqc/lib to your site packages pyvoqc folder"
   ]
  },
  {
   "cell_type": "code",
   "execution_count": 41,
   "metadata": {
    "pycharm": {
     "name": "#%%\n"
    }
   },
   "outputs": [],
   "source": [
    "from qiskit import QuantumCircuit\n",
    "from pyvoqc.qiskit.voqc_pass import voqc_pass_manager"
   ]
  },
  {
   "cell_type": "code",
   "execution_count": 42,
   "metadata": {
    "pycharm": {
     "name": "#%%\n"
    }
   },
   "outputs": [],
   "source": [
    "def optimize_voqc(qasm):\n",
    "    qc = QuantumCircuit.from_qasm_str(qasm)\n",
    "    vpm = voqc_pass_manager(post_opts=[\"optimize\"])\n",
    "    qc_opt = vpm.run(qc)\n",
    "    return qc_opt.qasm()\n",
    "\n",
    "\n",
    "compilers['voqc'] = optimize_voqc"
   ]
  },
  {
   "cell_type": "markdown",
   "metadata": {
    "pycharm": {
     "name": "#%% md\n"
    }
   },
   "source": []
  },
  {
   "cell_type": "markdown",
   "metadata": {
    "pycharm": {
     "name": "#%% md\n"
    }
   },
   "source": [
    "## $\\mid$tket$\\rangle$"
   ]
  },
  {
   "cell_type": "code",
   "execution_count": 43,
   "metadata": {
    "pycharm": {
     "name": "#%%\n"
    }
   },
   "outputs": [],
   "source": [
    "from pytket.qasm import circuit_from_qasm_str, circuit_to_qasm_str\n",
    "from pytket.passes import SequencePass, RemoveRedundancies, FullPeepholeOptimise, auto_rebase_pass\n",
    "from pytket.predicates import CompilationUnit\n",
    "from pytket import OpType"
   ]
  },
  {
   "cell_type": "code",
   "execution_count": 44,
   "metadata": {
    "pycharm": {
     "name": "#%%\n"
    }
   },
   "outputs": [],
   "source": [
    "def optimize_tket(qasm):\n",
    "    qc = circuit_from_qasm_str(qasm)\n",
    "    gates = {OpType.Rz, OpType.Rx, OpType.H, OpType.T, OpType.Tdg, OpType.S, OpType.CX}\n",
    "    rebase = auto_rebase_pass(gates)\n",
    "    seqpass = SequencePass(\n",
    "        [\n",
    "            FullPeepholeOptimise(),\n",
    "            RemoveRedundancies(),\n",
    "            rebase,\n",
    "        ])\n",
    "    cu = CompilationUnit(qc)\n",
    "    seqpass.apply(cu)\n",
    "    qc_opt = cu.circuit\n",
    "    return circuit_to_qasm_str(qc_opt)\n",
    "\n",
    "\n",
    "compilers['tket'] = optimize_tket"
   ]
  },
  {
   "cell_type": "markdown",
   "metadata": {
    "pycharm": {
     "name": "#%% md\n"
    }
   },
   "source": [
    "## Staq"
   ]
  },
  {
   "cell_type": "code",
   "execution_count": 45,
   "metadata": {
    "pycharm": {
     "name": "#%%\n"
    }
   },
   "outputs": [],
   "source": [
    "import pystaq\n"
   ]
  },
  {
   "cell_type": "code",
   "execution_count": 46,
   "metadata": {
    "pycharm": {
     "name": "#%%\n"
    }
   },
   "outputs": [],
   "source": [
    "def optimize_staq(qasm):\n",
    "    qc = pystaq.parse_str(qasm)\n",
    "    pystaq.simplify(qc)\n",
    "    pystaq.rotation_fold(qc)\n",
    "    pystaq.simplify(qc)\n",
    "    pystaq.cnot_resynth(qc)\n",
    "    pystaq.simplify(qc)\n",
    "    return str(qc)\n",
    "\n",
    "\n",
    "compilers['staq'] = optimize_staq\n"
   ]
  },
  {
   "cell_type": "markdown",
   "metadata": {
    "pycharm": {
     "name": "#%% md\n"
    }
   },
   "source": [
    "# Run Benchmarks"
   ]
  },
  {
   "cell_type": "markdown",
   "metadata": {
    "pycharm": {
     "name": "#%% md\n"
    }
   },
   "source": [
    "## Gate counting\n",
    "\n",
    "We count gates by finding them in the circuit representation.\n",
    "Though, we assume a error corrected gate set, meaning we will synthesize any rotations that are not of form $c \\times \\frac{pi}{4}$ using Peter Sellinger's gridsynth (https://www.mathstat.dal.ca/~selinger/newsynth/)"
   ]
  },
  {
   "cell_type": "code",
   "execution_count": 47,
   "metadata": {
    "pycharm": {
     "name": "#%%\n"
    }
   },
   "outputs": [],
   "source": [
    "import subprocess\n",
    "\n",
    "\n",
    "def gridsynth(theta):\n",
    "    return subprocess.getoutput(f\"./gridsynth {theta} -e 10e-6\")"
   ]
  },
  {
   "cell_type": "code",
   "execution_count": 48,
   "metadata": {
    "pycharm": {
     "name": "#%%\n"
    }
   },
   "outputs": [],
   "source": [
    "from math import pi\n",
    "\n",
    "def count_gates(qasm, gate_names):\n",
    "    qc = QuantumCircuit.from_qasm_str(qasm)\n",
    "    gates = list(qc)\n",
    "    count = 0\n",
    "    for gate in gates:\n",
    "        gate = gate[0]\n",
    "        if gate.name in gate_names:\n",
    "            count += 1\n",
    "    return count\n",
    "\n",
    "\n",
    "def approx(a, b):\n",
    "    return abs(a - b) < 10e-4\n",
    "\n",
    "\n",
    "def count_gates_synth(theta):\n",
    "    synth = gridsynth(theta)\n",
    "    return len(synth) - synth.count('W')\n",
    "\n",
    "\n",
    "def count_t_synth(theta):\n",
    "    synth = gridsynth(theta)\n",
    "    return synth.count('T')\n",
    "\n",
    "\n",
    "def count_rot_z_t(qasm):\n",
    "    qc = QuantumCircuit.from_qasm_str(qasm)\n",
    "    gates = list(qc)\n",
    "    count = 0\n",
    "    for gate in gates:\n",
    "        gate = gate[0]\n",
    "        if gate.name in ['rz', 'rx', 'u1']:\n",
    "            theta = gate.params[0]\n",
    "            if abs(theta % (pi / 4)) < 10e-5:\n",
    "                count += approx(pi / 4, abs(theta % (pi / 2)))\n",
    "            else:\n",
    "                count += count_t_synth(theta)\n",
    "\n",
    "    return count\n",
    "\n",
    "\n",
    "def count_t_gates(qasm):\n",
    "    return count_gates(qasm, ['t', 'tdag']) + count_rot_z_t(qasm)\n",
    "\n",
    "\n",
    "def count_cnot_gates(qasm):\n",
    "    return count_gates(qasm, ['cx', 'cz'])\n",
    "\n",
    "\n",
    "def count_total_gates(qasm):\n",
    "    qc = QuantumCircuit.from_qasm_str(qasm)\n",
    "    gates = list(qc)\n",
    "    count = 0\n",
    "    for gate in gates:\n",
    "        gate = gate[0]\n",
    "        if gate.name in ['rz', 'rx', 'u1']:\n",
    "            theta = gate.params[0]\n",
    "            if abs(theta % (pi / 4)) < 10e-5:\n",
    "                count += 1\n",
    "            else:\n",
    "                count += count_gates_synth(theta)\n",
    "        else:\n",
    "            count += 1\n",
    "    return count\n"
   ]
  },
  {
   "cell_type": "code",
   "execution_count": 49,
   "outputs": [],
   "source": [
    "f = open(\"tmp.qasm.x\", 'r')\n",
    "qc2 = f.read()\n",
    "f.close()"
   ],
   "metadata": {
    "collapsed": false,
    "pycharm": {
     "name": "#%%\n"
    }
   }
  },
  {
   "cell_type": "code",
   "execution_count": 50,
   "metadata": {
    "pycharm": {
     "name": "#%%\n"
    }
   },
   "outputs": [
    {
     "name": "stdout",
     "output_type": "stream",
     "text": [
      "Original\n",
      "     ┌─────────────┐┌───┐     ┌───┐     ┌───┐┌───┐┌───┐           \n",
      "q_0: ┤ Rz(0.13231) ├┤ T ├──■──┤ T ├──■──┤ H ├┤ T ├┤ X ├───────────\n",
      "     └────┬───┬────┘└───┘┌─┴─┐└───┘┌─┴─┐├───┤├───┤└─┬─┘┌─────────┐\n",
      "q_1: ─────┤ H ├──────────┤ X ├─────┤ X ├┤ T ├┤ S ├──■──┤ Rx(π/4) ├\n",
      "          └───┘          └───┘     └───┘└───┘└───┘     └─────────┘\n",
      "qiskit\n",
      "     ┌─────────────┐┌──────────┐┌──────────┐       ┌─────────┐   ┌──────────┐ »\n",
      "q_0: ┤ Rz(-1.4385) ├┤ Rx(3π/4) ├┤ Rz(-π/2) ├──■────┤ Rx(π/2) ├───┤ Rz(-π/2) ├─»\n",
      "     └┬────────────┤└──────────┘└──────────┘┌─┴─┐┌─┴─────────┴─┐┌┴──────────┴┐»\n",
      "q_1: ─┤ Rx(2.2176) ├────────────────────────┤ X ├┤ Rz(0.79021) ├┤ Rx(1.6686) ├»\n",
      "      └────────────┘                        └───┘└─────────────┘└────────────┘»\n",
      "«                    \n",
      "«q_0: ───────────────\n",
      "«     ┌─────────────┐\n",
      "«q_1: ┤ Rz(-1.4725) ├\n",
      "«     └─────────────┘\n",
      "147\n",
      "pyzx\n",
      "     ┌────────────┐┌───┐┌─────────┐┌───┐      ┌───┐                         \n",
      "q_0: ┤ Rz(1.7031) ├┤ H ├┤ Rz(π/4) ├┤ H ├─■────┤ H ├─────────────────────────\n",
      "     └───┬───┬────┘└───┘└─────────┘└───┘ │ ┌──┴───┴───┐┌───┐┌─────────┐┌───┐\n",
      "q_1: ────┤ H ├───────────────────────────■─┤ Rz(3π/4) ├┤ H ├┤ Rz(π/4) ├┤ H ├\n",
      "         └───┘                             └──────────┘└───┘└─────────┘└───┘\n",
      "51\n",
      "voqc\n",
      "     ┌────────────┐   ┌───┐    ┌───┐┌───┐               \n",
      "q_0: ┤ Rz(1.7031) ├───┤ H ├────┤ T ├┤ X ├───────────────\n",
      "     └───┬───┬────┘┌──┴───┴───┐└───┘└─┬─┘┌───┐┌───┐┌───┐\n",
      "q_1: ────┤ H ├─────┤ Rz(3π/4) ├───────■──┤ H ├┤ T ├┤ H ├\n",
      "         └───┘     └──────────┘          └───┘└───┘└───┘\n",
      "51\n",
      "tket\n",
      "     ┌────────────┐┌─────────┐ ┌──────────┐┌───┐           \n",
      "q_0: ┤ Rz(3.2739) ├┤ Rx(π/2) ├─┤ Rz(3π/4) ├┤ X ├───────────\n",
      "     └┬──────────┬┘├─────────┴┐├──────────┤└─┬─┘┌─────────┐\n",
      "q_1: ─┤ Rz(7π/2) ├─┤ Rx(7π/2) ├┤ Rz(9π/4) ├──■──┤ Rx(π/4) ├\n",
      "      └──────────┘ └──────────┘└──────────┘     └─────────┘\n",
      "51\n",
      "staq\n",
      "     ┌─────────────┐   ┌───┐    ┌───┐┌───┐┌───┐           \n",
      "q_0: ┤ U1(0.13231) ├───┤ S ├────┤ H ├┤ T ├┤ X ├───────────\n",
      "     └────┬───┬────┘┌──┴───┴───┐└───┘└───┘└─┬─┘┌─────────┐\n",
      "q_1: ─────┤ H ├─────┤ U1(3π/4) ├────────────■──┤ Rx(π/4) ├\n",
      "          └───┘     └──────────┘               └─────────┘\n",
      "51\n"
     ]
    }
   ],
   "source": [
    "from qiskit.circuit.library import MCMT\n",
    "\n",
    "#ccz = QuantumCircuit(3)\n",
    "#ccz = MCMT('cz',2,1)\n",
    "#ccz = QuantumCircuit.from_qasm_str(optimize_qiskit(ccz.qasm()))\n",
    "#gate = ccz.to_gate()\n",
    "#ccz = QuantumCircuit(3)\n",
    "#ccz.append(gate,[0,1,2])\n",
    "#print(ccz.qasm())\n",
    "\n",
    "\n",
    "# Test\n",
    "\n",
    "qc = QuantumCircuit(2)\n",
    "qc.rz(0.132312, 0)\n",
    "qc.t(0)\n",
    "qc.h(1)\n",
    "qc.cnot(0, 1)\n",
    "qc.t(0)\n",
    "qc.cnot(0, 1)\n",
    "qc.h(0)\n",
    "qc.t(0)\n",
    "qc.t(1)\n",
    "qc.s(1)\n",
    "qc.cnot(1, 0)\n",
    "qc.rx(pi / 4, 1)\n",
    "\n",
    "\n",
    "print(\"Original\")\n",
    "print(qc.draw())\n",
    "\n",
    "qasm = qc.qasm()\n",
    "\n",
    "\n",
    "for compiler_name in compilers:\n",
    "    print(compiler_name)\n",
    "    qasm_opt = compilers[compiler_name](qasm)\n",
    "    qc_opt = QuantumCircuit.from_qasm_str(qasm_opt)\n",
    "    print(qc_opt.draw())\n",
    "    print(count_t_gates(qasm_opt))\n"
   ]
  },
  {
   "cell_type": "code",
   "execution_count": 56,
   "metadata": {
    "pycharm": {
     "name": "#%%\n"
    }
   },
   "outputs": [
    {
     "name": "stdout",
     "output_type": "stream",
     "text": [
      "Nam-benchmarks/Arithmetic_and_Toffoli/adder_8.qasm\n",
      "qiskit + qiskit\n",
      "Completed in 1.087130759000047 sec\n",
      "qiskit + pyzx\n",
      "Completed in 7.338517799000101 sec\n",
      "qiskit + voqc\n",
      "Completed in 1.700059334999878 sec\n",
      "qiskit + tket\n",
      "Completed in 3.206322266999905 sec\n",
      "qiskit + staq\n",
      "Completed in 1.3225662330000887 sec\n",
      "pyzx + qiskit\n",
      "Completed in 7.161215027000026 sec\n",
      "pyzx + pyzx\n",
      "Completed in 6.395087568000008 sec\n",
      "pyzx + voqc\n",
      "Completed in 6.6133201170000575 sec\n",
      "pyzx + tket\n",
      "Completed in 8.709096212000077 sec\n",
      "pyzx + staq\n",
      "Completed in 8.206761061999941 sec\n",
      "voqc + qiskit\n",
      "Completed in 2.2705168249999588 sec\n",
      "voqc + pyzx\n",
      "Completed in 9.484389915999827 sec\n",
      "voqc + voqc\n",
      "Completed in 0.8090161009999974 sec\n",
      "voqc + tket\n",
      "Completed in 3.3905775849998463 sec\n",
      "voqc + staq\n",
      "Completed in 0.8207794480001667 sec\n",
      "tket + qiskit\n",
      "Completed in 3.8866139990000192 sec\n",
      "tket + pyzx\n",
      "Completed in 10.396440009999878 sec\n",
      "tket + voqc\n",
      "Completed in 3.0290468050000072 sec\n",
      "tket + tket\n",
      "Completed in 2.2857636300000195 sec\n",
      "tket + staq\n",
      "Completed in 2.297223066000015 sec\n",
      "staq + qiskit\n",
      "Completed in 1.4646916900001088 sec\n",
      "staq + pyzx\n",
      "Completed in 7.395483323999997 sec\n",
      "staq + voqc\n",
      "Completed in 0.5031683270001395 sec\n",
      "staq + tket\n",
      "Completed in 2.2591548890000013 sec\n",
      "staq + staq\n",
      "Completed in 0.03092150399993443 sec\n",
      "Nam-benchmarks/Arithmetic_and_Toffoli/barenco_tof_5.qasm\n",
      "qiskit + qiskit\n",
      "Completed in 0.25934859099993446 sec\n",
      "qiskit + pyzx\n",
      "Completed in 0.5520650829998885 sec\n",
      "qiskit + voqc\n",
      "Completed in 0.40351748400007637 sec\n",
      "qiskit + tket\n",
      "Completed in 0.8136969300001056 sec\n",
      "qiskit + staq\n",
      "Completed in 0.29438275799998337 sec\n",
      "pyzx + qiskit\n",
      "Completed in 0.5768055210000966 sec\n",
      "pyzx + pyzx\n",
      "Completed in 0.3004672429999573 sec\n",
      "pyzx + voqc\n",
      "Completed in 0.42588442999999643 sec\n",
      "pyzx + tket\n",
      "Completed in 0.6203126329999122 sec\n",
      "pyzx + staq\n",
      "Completed in 0.3200826899999356 sec\n",
      "voqc + qiskit\n",
      "Completed in 0.441752526000073 sec\n",
      "voqc + pyzx\n",
      "Completed in 0.48501873800000794 sec\n",
      "voqc + voqc\n",
      "Completed in 0.3683523659999537 sec\n",
      "voqc + tket\n",
      "Completed in 0.5277921079998578 sec\n",
      "voqc + staq\n",
      "Completed in 0.17062893500019527 sec\n",
      "tket + qiskit\n",
      "Completed in 0.882278468000095 sec\n",
      "tket + pyzx\n",
      "Completed in 0.6864410559999214 sec\n",
      "tket + voqc\n",
      "Completed in 0.7398354800000106 sec\n",
      "tket + tket\n",
      "Completed in 0.3683855049998783 sec\n",
      "tket + staq\n",
      "Completed in 0.3892144349999853 sec\n",
      "staq + qiskit\n",
      "Completed in 0.29160508800009666 sec\n",
      "staq + pyzx\n",
      "Completed in 0.2972471860000496 sec\n",
      "staq + voqc\n",
      "Completed in 0.1650435669998842 sec\n",
      "staq + tket\n",
      "Completed in 0.38436339300005784 sec\n",
      "staq + staq\n",
      "Completed in 0.005727498999931413 sec\n",
      "Nam-benchmarks/Arithmetic_and_Toffoli/gf2^4_mult.qasm\n",
      "qiskit + qiskit\n",
      "Completed in 0.36440448799999103 sec\n",
      "qiskit + pyzx\n",
      "Completed in 0.7096156099999007 sec\n",
      "qiskit + voqc\n",
      "Completed in 0.7597006339999552 sec\n",
      "qiskit + tket\n",
      "Completed in 0.9115381179999531 sec\n",
      "qiskit + staq\n",
      "Completed in 0.39971673600007307 sec\n",
      "pyzx + qiskit\n",
      "Completed in 0.528793240999903 sec\n",
      "pyzx + pyzx\n",
      "Completed in 0.1493917809998493 sec\n",
      "pyzx + voqc\n",
      "Completed in 0.34558782900012375 sec\n",
      "pyzx + tket\n",
      "Completed in 0.7102058929999657 sec\n",
      "pyzx + staq\n",
      "Completed in 0.1618586970000706 sec\n",
      "voqc + qiskit\n",
      "Completed in 0.805170852999936 sec\n",
      "voqc + pyzx\n",
      "Completed in 0.5439030439999897 sec\n",
      "voqc + voqc\n",
      "Completed in 0.19323030200007452 sec\n",
      "voqc + tket\n",
      "Completed in 0.7176287580000462 sec\n",
      "voqc + staq\n",
      "Completed in 0.2208053380002184 sec\n",
      "tket + qiskit\n",
      "Completed in 1.150019616999998 sec\n",
      "tket + pyzx\n",
      "Completed in 0.671374146999824 sec\n",
      "tket + voqc\n",
      "Completed in 0.7159566339998946 sec\n",
      "tket + tket\n",
      "Completed in 0.5196559159999197 sec\n",
      "tket + staq\n",
      "Completed in 0.5356111430000965 sec\n",
      "staq + qiskit\n",
      "Completed in 0.6290996299999279 sec\n",
      "staq + pyzx\n",
      "Completed in 0.1582024670001374 sec\n",
      "staq + voqc\n",
      "Completed in 0.20321157699981995 sec\n",
      "staq + tket\n",
      "Completed in 0.5304372909999984 sec\n",
      "staq + staq\n",
      "Completed in 0.010102150000193433 sec\n",
      "{'base': 0, 'qiskitqiskit': 1.7108838379999725, 'qiskitpyzx': 8.60019849199989, 'qiskitvoqc': 2.8632774529999097, 'qiskittket': 4.931557314999964, 'qiskitstaq': 2.016665727000145, 'pyzxqiskit': 8.266813789000025, 'pyzxpyzx': 6.844946591999815, 'pyzxvoqc': 7.384792376000178, 'pyzxtket': 10.039614737999955, 'pyzxstaq': 8.688702448999948, 'voqcqiskit': 3.5174402039999677, 'voqcpyzx': 10.513311697999825, 'voqcvoqc': 1.3705987690000256, 'voqctket': 4.63599845099975, 'voqcstaq': 1.2122137210005803, 'tketqiskit': 5.918912084000112, 'tketpyzx': 11.754255212999624, 'tketvoqc': 4.4848389189999125, 'tkettket': 3.1738050509998175, 'tketstaq': 3.222048644000097, 'staqqiskit': 2.3853964080001333, 'staqpyzx': 7.850932977000184, 'staqvoqc': 0.8714234709998436, 'staqtket': 3.1739555730000575, 'staqstaq': 0.046751153000059276}\n",
      "{'base': 1635, 'qiskitqiskit': 1729, 'qiskitpyzx': 1835, 'qiskitvoqc': 1332, 'qiskittket': 50396, 'qiskitstaq': 17443, 'pyzxqiskit': 1729, 'pyzxpyzx': 1835, 'pyzxvoqc': 1332, 'pyzxtket': 50413, 'pyzxstaq': 17455, 'voqcqiskit': 1729, 'voqcpyzx': 1835, 'voqcvoqc': 1332, 'voqctket': 50453, 'voqcstaq': 17449, 'tketqiskit': 1729, 'tketpyzx': 1835, 'tketvoqc': 1332, 'tkettket': 50429, 'tketstaq': 17443, 'staqqiskit': 1729, 'staqpyzx': 1835, 'staqvoqc': 1332, 'staqtket': 50410, 'staqstaq': 17443}\n",
      "{'base': 750, 'qiskitqiskit': 734, 'qiskitpyzx': 917, 'qiskitvoqc': 710, 'qiskittket': 720, 'qiskitstaq': 591, 'pyzxqiskit': 734, 'pyzxpyzx': 917, 'pyzxvoqc': 710, 'pyzxtket': 720, 'pyzxstaq': 591, 'voqcqiskit': 734, 'voqcpyzx': 917, 'voqcvoqc': 710, 'voqctket': 720, 'voqcstaq': 591, 'tketqiskit': 734, 'tketpyzx': 917, 'tketvoqc': 710, 'tkettket': 720, 'tketstaq': 591, 'staqqiskit': 734, 'staqpyzx': 917, 'staqvoqc': 710, 'staqtket': 720, 'staqstaq': 591}\n",
      "{'base': 765, 'qiskitqiskit': 707, 'qiskitpyzx': 281, 'qiskitvoqc': 329, 'qiskittket': 19334, 'qiskitstaq': 489, 'pyzxqiskit': 707, 'pyzxpyzx': 281, 'pyzxvoqc': 329, 'pyzxtket': 19334, 'pyzxstaq': 489, 'voqcqiskit': 707, 'voqcpyzx': 281, 'voqcvoqc': 329, 'voqctket': 19334, 'voqcstaq': 489, 'tketqiskit': 707, 'tketpyzx': 281, 'tketvoqc': 329, 'tkettket': 19334, 'tketstaq': 489, 'staqqiskit': 707, 'staqpyzx': 281, 'staqvoqc': 329, 'staqtket': 19334, 'staqstaq': 489}\n"
     ]
    }
   ],
   "source": [
    "import time\n",
    "\n",
    "total_time = dict()\n",
    "total_gates = dict()\n",
    "total_cnot_gates = dict()\n",
    "total_t_gates = dict()\n",
    "\n",
    "base_key = 'base'\n",
    "\n",
    "# Initalize\n",
    "total_time[base_key] = 0\n",
    "total_gates[base_key] = 0\n",
    "total_cnot_gates[base_key] = 0\n",
    "total_t_gates[base_key] = 0\n",
    "for compiler_name_1 in compilers:\n",
    "    for compiler_name_2 in compilers:\n",
    "        total_time[compiler_name_1 + compiler_name_2] = 0\n",
    "        total_gates[compiler_name_1 + compiler_name_2] = 0\n",
    "        total_cnot_gates[compiler_name_1 + compiler_name_2] = 0\n",
    "        total_t_gates[compiler_name_1 + compiler_name_2] = 0\n",
    "\n",
    "# Benchmark individually\n",
    "completed_benchmarks = []\n",
    "x = 0 # Limit execution for testing (TODO: REMOVE)\n",
    "for benchmark_file in benchmark_files:\n",
    "    if benchmark_file == \"temp_in.qasm\" or benchmark_file == \"tmp.qasm\":  # Ignore compiler artifacts\n",
    "        continue\n",
    "    print(benchmark_file)\n",
    "    benchmark = QuantumCircuit.from_qasm_file(benchmark_file).decompose().qasm() # Remove custom gate declarations since tket and voqc don't play nicely with them\n",
    "    assert not benchmark == \"\"\n",
    "    total_gates[base_key] += count_total_gates(benchmark)\n",
    "    total_cnot_gates[base_key] += count_cnot_gates(benchmark)\n",
    "    total_t_gates[base_key] += count_t_gates(benchmark)\n",
    "    for compiler_name_1 in compilers:\n",
    "        for compiler_name_2 in compilers:\n",
    "            print(f\"{compiler_name_1} + {compiler_name_2}\")\n",
    "            start = time.perf_counter()\n",
    "            opt_qasm = compilers[compiler_name_1](benchmark)\n",
    "            if compiler_name_1 != compiler_name_2:\n",
    "                opt_qasm = compilers[compiler_name_2](benchmark)\n",
    "            stop = time.perf_counter()\n",
    "            print(f\"Completed in {stop-start} sec\")\n",
    "            total_time[compiler_name_1 + compiler_name_2] += (stop - start)\n",
    "            total_gates[compiler_name_1 + compiler_name_2] += count_total_gates(opt_qasm)\n",
    "            total_cnot_gates[compiler_name_1 + compiler_name_2] += count_cnot_gates(opt_qasm)\n",
    "            total_t_gates[compiler_name_1 + compiler_name_2] += count_t_gates(opt_qasm)\n",
    "    completed_benchmarks += str(benchmark_file)\n",
    "    x += 1\n",
    "    if x >= 3:\n",
    "        break\n",
    "\n",
    "# Print results\n",
    "print(total_time)\n",
    "print(total_gates)\n",
    "print(total_cnot_gates)\n",
    "print(total_t_gates)"
   ]
  },
  {
   "cell_type": "code",
   "execution_count": 59,
   "outputs": [],
   "source": [
    "import pickle\n",
    "\n",
    "def get_new_file(base_name):\n",
    "    i = 0\n",
    "    while os.path.exists(f\"{base_name}{i}.pkl\"):\n",
    "        i += 1\n",
    "    return open(f\"{base_name}{i}.pkl\", 'wb')\n",
    "\n",
    "pickle.dump(completed_benchmarks, get_new_file(\"completed_benchmarks\"))\n",
    "pickle.dump(total_time, get_new_file(\"total_time\"))\n",
    "pickle.dump(total_gates, get_new_file(\"total_gates\"))\n",
    "pickle.dump(total_t_gates, get_new_file(\"total_t_gates\"))\n",
    "pickle.dump(total_cnot_gates, get_new_file(\"total_cnot_gates\"))"
   ],
   "metadata": {
    "collapsed": false,
    "pycharm": {
     "name": "#%%\n"
    }
   }
  },
  {
   "cell_type": "code",
   "execution_count": null,
   "outputs": [],
   "source": [],
   "metadata": {
    "collapsed": false,
    "pycharm": {
     "name": "#%%\n"
    }
   }
  }
 ],
 "metadata": {
  "kernelspec": {
   "display_name": "Python 3 (ipykernel)",
   "language": "python",
   "name": "python3"
  },
  "language_info": {
   "codemirror_mode": {
    "name": "ipython",
    "version": 3
   },
   "file_extension": ".py",
   "mimetype": "text/x-python",
   "name": "python",
   "nbconvert_exporter": "python",
   "pygments_lexer": "ipython3",
   "version": "3.9.10"
  }
 },
 "nbformat": 4,
 "nbformat_minor": 1
}