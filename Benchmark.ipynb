{
 "cells": [
  {
   "cell_type": "markdown",
   "metadata": {
    "pycharm": {
     "name": "#%% md\n"
    }
   },
   "source": [
    "# Benchmarking different quantum compilers\n"
   ]
  },
  {
   "cell_type": "code",
   "execution_count": 34,
   "metadata": {
    "pycharm": {
     "name": "#%%\n"
    }
   },
   "outputs": [],
   "source": []
  },
  {
   "cell_type": "markdown",
   "metadata": {
    "pycharm": {
     "name": "#%% md\n"
    }
   },
   "source": [
    "## Load benchmarks"
   ]
  },
  {
   "cell_type": "code",
   "execution_count": 35,
   "metadata": {
    "pycharm": {
     "name": "#%%\n"
    }
   },
   "outputs": [],
   "source": [
    "import os\n",
    "import subprocess\n",
    "from pathlib import Path\n",
    "\n",
    "benchmark_files = list(Path(\".\").rglob(\"*.qasm\"))"
   ]
  },
  {
   "cell_type": "markdown",
   "metadata": {
    "pycharm": {
     "name": "#%% md\n"
    }
   },
   "source": [
    "## Prepare compilers"
   ]
  },
  {
   "cell_type": "code",
   "execution_count": 36,
   "metadata": {
    "pycharm": {
     "name": "#%%\n"
    }
   },
   "outputs": [],
   "source": [
    "compilers = dict()"
   ]
  },
  {
   "cell_type": "markdown",
   "metadata": {
    "pycharm": {
     "name": "#%% md\n"
    }
   },
   "source": [
    "## QisKit"
   ]
  },
  {
   "cell_type": "code",
   "execution_count": 37,
   "metadata": {
    "pycharm": {
     "name": "#%%\n"
    }
   },
   "outputs": [],
   "source": [
    "from qiskit.compiler import transpile"
   ]
  },
  {
   "cell_type": "code",
   "execution_count": 38,
   "metadata": {
    "pycharm": {
     "name": "#%%\n"
    }
   },
   "outputs": [],
   "source": [
    "def optimize_qiskit(qasm):\n",
    "    qc = QuantumCircuit.from_qasm_str(qasm)\n",
    "    opt_qc = transpile(qc, optimization_level=3, approximation_degree=1.0,\n",
    "                       basis_gates=['rz', 'rx', 'h', 't', 'tdag', 's', 'cx'])\n",
    "    return opt_qc.qasm()\n",
    "\n",
    "\n",
    "compilers['qiskit'] = optimize_qiskit"
   ]
  },
  {
   "cell_type": "markdown",
   "metadata": {
    "pycharm": {
     "name": "#%% md\n"
    }
   },
   "source": [
    "## PyZX"
   ]
  },
  {
   "cell_type": "code",
   "execution_count": 39,
   "metadata": {
    "pycharm": {
     "name": "#%%\n"
    }
   },
   "outputs": [],
   "source": [
    "import pyzx as zx"
   ]
  },
  {
   "cell_type": "code",
   "execution_count": 40,
   "metadata": {
    "pycharm": {
     "name": "#%%\n"
    }
   },
   "outputs": [],
   "source": [
    "def optimize_pyzx(qasm):\n",
    "    c = zx.Circuit.from_qasm(qasm)\n",
    "    c = c.to_graph()\n",
    "    zx.simplify.full_reduce(c)\n",
    "    c.normalize()\n",
    "    c_opt = zx.extract_circuit(c.copy(), quiet=True, optimize_cnots=3).to_basic_gates()\n",
    "    return c_opt.to_qasm()\n",
    "\n",
    "\n",
    "compilers['pyzx'] = optimize_pyzx"
   ]
  },
  {
   "cell_type": "markdown",
   "metadata": {
    "pycharm": {
     "name": "#%% md\n"
    }
   },
   "source": [
    "## VOQC"
   ]
  },
  {
   "cell_type": "markdown",
   "metadata": {
    "pycharm": {
     "name": "#%% md\n"
    }
   },
   "source": [
    "To install voqc run\n",
    "```shell\n",
    "git submodule update --remote\n",
    "cd pyvoqc\n",
    "opam pin voqc https://github.com/inQWIRE/mlvoqc.git#mapping\n",
    "./install.sh\n",
    "```\n",
    "Then copy pyvoqc/lib to your site packages pyvoqc folder"
   ]
  },
  {
   "cell_type": "code",
   "execution_count": 41,
   "metadata": {
    "pycharm": {
     "name": "#%%\n"
    }
   },
   "outputs": [],
   "source": [
    "from qiskit import QuantumCircuit\n",
    "from pyvoqc.qiskit.voqc_pass import voqc_pass_manager"
   ]
  },
  {
   "cell_type": "code",
   "execution_count": 42,
   "metadata": {
    "pycharm": {
     "name": "#%%\n"
    }
   },
   "outputs": [],
   "source": [
    "def optimize_voqc(qasm):\n",
    "    qc = QuantumCircuit.from_qasm_str(qasm)\n",
    "    vpm = voqc_pass_manager(post_opts=[\"optimize\"])\n",
    "    qc_opt = vpm.run(qc)\n",
    "    return qc_opt.qasm()\n",
    "\n",
    "\n",
    "compilers['voqc'] = optimize_voqc"
   ]
  },
  {
   "cell_type": "markdown",
   "metadata": {
    "pycharm": {
     "name": "#%% md\n"
    }
   },
   "source": []
  },
  {
   "cell_type": "markdown",
   "metadata": {
    "pycharm": {
     "name": "#%% md\n"
    }
   },
   "source": [
    "## $\\mid$tket$\\rangle$"
   ]
  },
  {
   "cell_type": "code",
   "execution_count": 43,
   "metadata": {
    "pycharm": {
     "name": "#%%\n"
    }
   },
   "outputs": [],
   "source": [
    "from pytket.qasm import circuit_from_qasm_str, circuit_to_qasm_str\n",
    "from pytket.passes import SequencePass, RemoveRedundancies, FullPeepholeOptimise, auto_rebase_pass\n",
    "from pytket.predicates import CompilationUnit\n",
    "from pytket import OpType"
   ]
  },
  {
   "cell_type": "code",
   "execution_count": 44,
   "metadata": {
    "pycharm": {
     "name": "#%%\n"
    }
   },
   "outputs": [],
   "source": [
    "def optimize_tket(qasm):\n",
    "    qc = circuit_from_qasm_str(qasm)\n",
    "    gates = {OpType.Rz, OpType.Rx, OpType.H, OpType.T, OpType.Tdg, OpType.S, OpType.CX}\n",
    "    rebase = auto_rebase_pass(gates)\n",
    "    seqpass = SequencePass(\n",
    "        [\n",
    "            FullPeepholeOptimise(),\n",
    "            RemoveRedundancies(),\n",
    "            rebase,\n",
    "        ])\n",
    "    cu = CompilationUnit(qc)\n",
    "    seqpass.apply(cu)\n",
    "    qc_opt = cu.circuit\n",
    "    return circuit_to_qasm_str(qc_opt)\n",
    "\n",
    "\n",
    "compilers['tket'] = optimize_tket"
   ]
  },
  {
   "cell_type": "markdown",
   "metadata": {
    "pycharm": {
     "name": "#%% md\n"
    }
   },
   "source": [
    "## Staq"
   ]
  },
  {
   "cell_type": "code",
   "execution_count": 45,
   "metadata": {
    "pycharm": {
     "name": "#%%\n"
    }
   },
   "outputs": [],
   "source": [
    "import pystaq\n"
   ]
  },
  {
   "cell_type": "code",
   "execution_count": 46,
   "metadata": {
    "pycharm": {
     "name": "#%%\n"
    }
   },
   "outputs": [],
   "source": [
    "def optimize_staq(qasm):\n",
    "    qc = pystaq.parse_str(qasm)\n",
    "    pystaq.simplify(qc)\n",
    "    pystaq.rotation_fold(qc)\n",
    "    pystaq.simplify(qc)\n",
    "    pystaq.cnot_resynth(qc)\n",
    "    pystaq.simplify(qc)\n",
    "    return str(qc)\n",
    "\n",
    "\n",
    "compilers['staq'] = optimize_staq\n"
   ]
  },
  {
   "cell_type": "markdown",
   "metadata": {
    "pycharm": {
     "name": "#%% md\n"
    }
   },
   "source": [
    "# Run Benchmarks"
   ]
  },
  {
   "cell_type": "markdown",
   "metadata": {
    "pycharm": {
     "name": "#%% md\n"
    }
   },
   "source": [
    "## Gate counting\n",
    "\n",
    "We count gates by finding them in the circuit representation.\n",
    "Though, we assume a error corrected gate set, meaning we will synthesize any rotations that are not of form $c \\times \\frac{pi}{4}$ using Peter Sellinger's gridsynth (https://www.mathstat.dal.ca/~selinger/newsynth/)"
   ]
  },
  {
   "cell_type": "code",
   "execution_count": 47,
   "metadata": {
    "pycharm": {
     "name": "#%%\n"
    }
   },
   "outputs": [],
   "source": [
    "import subprocess\n",
    "\n",
    "\n",
    "def gridsynth(theta):\n",
    "    return subprocess.getoutput(f\"./gridsynth {theta} -e 10e-6\")"
   ]
  },
  {
   "cell_type": "code",
   "execution_count": 48,
   "metadata": {
    "pycharm": {
     "name": "#%%\n"
    }
   },
   "outputs": [],
   "source": [
    "from math import pi\n",
    "\n",
    "\n",
    "def count_gates(qasm, gate_names):\n",
    "    qc = QuantumCircuit.from_qasm_str(qasm)\n",
    "    gates = list(qc)\n",
    "    count = 0\n",
    "    for gate in gates:\n",
    "        gate = gate[0]\n",
    "        if gate.name in gate_names:\n",
    "            count += 1\n",
    "    return count\n",
    "\n",
    "\n",
    "def approx(a, b):\n",
    "    return abs(a - b) < 10e-4\n",
    "\n",
    "\n",
    "def count_gates_synth(theta):\n",
    "    synth = gridsynth(theta)\n",
    "    return len(synth) - synth.count('W')\n",
    "\n",
    "\n",
    "def count_t_synth(theta):\n",
    "    synth = gridsynth(theta)\n",
    "    return synth.count('T')\n",
    "\n",
    "\n",
    "def count_rot_z_t(qasm):\n",
    "    qc = QuantumCircuit.from_qasm_str(qasm)\n",
    "    gates = list(qc)\n",
    "    count = 0\n",
    "    for gate in gates:\n",
    "        gate = gate[0]\n",
    "        if gate.name in ['rz', 'rx', 'u1']:\n",
    "            theta = gate.params[0]\n",
    "            if abs(theta % (pi / 4)) < 10e-5:\n",
    "                count += approx(pi / 4, abs(theta % (pi / 2)))\n",
    "            else:\n",
    "                count += count_t_synth(theta)\n",
    "\n",
    "    return count\n",
    "\n",
    "\n",
    "def count_t_gates(qasm):\n",
    "    return count_gates(qasm, ['t', 'tdag']) + count_rot_z_t(qasm)\n",
    "\n",
    "\n",
    "def count_cnot_gates(qasm):\n",
    "    return count_gates(qasm, ['cx', 'cz'])\n",
    "\n",
    "\n",
    "def count_total_gates(qasm):\n",
    "    qc = QuantumCircuit.from_qasm_str(qasm)\n",
    "    gates = list(qc)\n",
    "    count = 0\n",
    "    for gate in gates:\n",
    "        gate = gate[0]\n",
    "        if gate.name in ['rz', 'rx', 'u1']:\n",
    "            theta = gate.params[0]\n",
    "            if abs(theta % (pi / 4)) < 10e-5:\n",
    "                count += 1\n",
    "            else:\n",
    "                count += count_gates_synth(theta)\n",
    "        else:\n",
    "            count += 1\n",
    "    return count\n"
   ]
  },
  {
   "cell_type": "code",
   "execution_count": 50,
   "metadata": {
    "pycharm": {
     "name": "#%%\n"
    }
   },
   "outputs": [
    {
     "name": "stdout",
     "output_type": "stream",
     "text": [
      "Original\n",
      "     ┌─────────────┐┌───┐     ┌───┐     ┌───┐┌───┐┌───┐           \n",
      "q_0: ┤ Rz(0.13231) ├┤ T ├──■──┤ T ├──■──┤ H ├┤ T ├┤ X ├───────────\n",
      "     └────┬───┬────┘└───┘┌─┴─┐└───┘┌─┴─┐├───┤├───┤└─┬─┘┌─────────┐\n",
      "q_1: ─────┤ H ├──────────┤ X ├─────┤ X ├┤ T ├┤ S ├──■──┤ Rx(π/4) ├\n",
      "          └───┘          └───┘     └───┘└───┘└───┘     └─────────┘\n",
      "qiskit\n",
      "     ┌─────────────┐┌──────────┐┌──────────┐       ┌─────────┐   ┌──────────┐ »\n",
      "q_0: ┤ Rz(-1.4385) ├┤ Rx(3π/4) ├┤ Rz(-π/2) ├──■────┤ Rx(π/2) ├───┤ Rz(-π/2) ├─»\n",
      "     └┬────────────┤└──────────┘└──────────┘┌─┴─┐┌─┴─────────┴─┐┌┴──────────┴┐»\n",
      "q_1: ─┤ Rx(2.2176) ├────────────────────────┤ X ├┤ Rz(0.79021) ├┤ Rx(1.6686) ├»\n",
      "      └────────────┘                        └───┘└─────────────┘└────────────┘»\n",
      "«                    \n",
      "«q_0: ───────────────\n",
      "«     ┌─────────────┐\n",
      "«q_1: ┤ Rz(-1.4725) ├\n",
      "«     └─────────────┘\n",
      "147\n",
      "pyzx\n",
      "     ┌────────────┐┌───┐┌─────────┐┌───┐      ┌───┐                         \n",
      "q_0: ┤ Rz(1.7031) ├┤ H ├┤ Rz(π/4) ├┤ H ├─■────┤ H ├─────────────────────────\n",
      "     └───┬───┬────┘└───┘└─────────┘└───┘ │ ┌──┴───┴───┐┌───┐┌─────────┐┌───┐\n",
      "q_1: ────┤ H ├───────────────────────────■─┤ Rz(3π/4) ├┤ H ├┤ Rz(π/4) ├┤ H ├\n",
      "         └───┘                             └──────────┘└───┘└─────────┘└───┘\n",
      "51\n",
      "voqc\n",
      "     ┌────────────┐   ┌───┐    ┌───┐┌───┐               \n",
      "q_0: ┤ Rz(1.7031) ├───┤ H ├────┤ T ├┤ X ├───────────────\n",
      "     └───┬───┬────┘┌──┴───┴───┐└───┘└─┬─┘┌───┐┌───┐┌───┐\n",
      "q_1: ────┤ H ├─────┤ Rz(3π/4) ├───────■──┤ H ├┤ T ├┤ H ├\n",
      "         └───┘     └──────────┘          └───┘└───┘└───┘\n",
      "51\n",
      "tket\n",
      "     ┌────────────┐┌─────────┐ ┌──────────┐┌───┐           \n",
      "q_0: ┤ Rz(3.2739) ├┤ Rx(π/2) ├─┤ Rz(3π/4) ├┤ X ├───────────\n",
      "     └┬──────────┬┘├─────────┴┐├──────────┤└─┬─┘┌─────────┐\n",
      "q_1: ─┤ Rz(7π/2) ├─┤ Rx(7π/2) ├┤ Rz(9π/4) ├──■──┤ Rx(π/4) ├\n",
      "      └──────────┘ └──────────┘└──────────┘     └─────────┘\n",
      "51\n",
      "staq\n",
      "     ┌─────────────┐   ┌───┐    ┌───┐┌───┐┌───┐           \n",
      "q_0: ┤ U1(0.13231) ├───┤ S ├────┤ H ├┤ T ├┤ X ├───────────\n",
      "     └────┬───┬────┘┌──┴───┴───┐└───┘└───┘└─┬─┘┌─────────┐\n",
      "q_1: ─────┤ H ├─────┤ U1(3π/4) ├────────────■──┤ Rx(π/4) ├\n",
      "          └───┘     └──────────┘               └─────────┘\n",
      "51\n"
     ]
    }
   ],
   "source": [
    "from qiskit.circuit.library import MCMT\n",
    "\n",
    "# Test\n",
    "testing = False\n",
    "if testing:\n",
    "    qc = QuantumCircuit(2)\n",
    "    qc.rz(0.132312, 0)\n",
    "    qc.t(0)\n",
    "    qc.h(1)\n",
    "    qc.cnot(0, 1)\n",
    "    qc.t(0)\n",
    "    qc.cnot(0, 1)\n",
    "    qc.h(0)\n",
    "    qc.t(0)\n",
    "    qc.t(1)\n",
    "    qc.s(1)\n",
    "    qc.cnot(1, 0)\n",
    "    qc.rx(pi / 4, 1)\n",
    "\n",
    "    print(\"Original\")\n",
    "    print(qc.draw())\n",
    "\n",
    "    qasm = qc.qasm()\n",
    "\n",
    "    for compiler_name in compilers:\n",
    "        print(compiler_name)\n",
    "        qasm_opt = compilers[compiler_name](qasm)\n",
    "        qc_opt = QuantumCircuit.from_qasm_str(qasm_opt)\n",
    "        print(qc_opt.draw())\n",
    "        print(count_t_gates(qasm_opt))\n"
   ]
  },
  {
   "cell_type": "code",
   "execution_count": 64,
   "metadata": {
    "pycharm": {
     "name": "#%%\n"
    }
   },
   "outputs": [
    {
     "name": "stdout",
     "output_type": "stream",
     "text": [
      "Nam-benchmarks/Arithmetic_and_Toffoli/adder_8.qasm\n",
      "qiskit + qiskit\n",
      "Completed in 6.638427859999865 sec\n",
      "qiskit + pyzx\n",
      "Completed in 22.849521261000064 sec\n",
      "qiskit + voqc\n",
      "Completed in 2.8962885240002834 sec\n",
      "qiskit + tket\n",
      "Completed in 5.061579454999901 sec\n",
      "qiskit + staq\n",
      "Completed in 1.5652589960000114 sec\n",
      "pyzx + qiskit\n",
      "Completed in 11.390085833000285 sec\n",
      "pyzx + pyzx\n",
      "Completed in 9.215364987000157 sec\n",
      "pyzx + voqc\n",
      "Completed in 9.354675720999694 sec\n",
      "pyzx + tket\n",
      "Completed in 11.32616009000003 sec\n",
      "pyzx + staq\n",
      "Completed in 9.128587698000047 sec\n",
      "voqc + qiskit\n",
      "Completed in 1.809215346000201 sec\n",
      "voqc + pyzx\n",
      "Completed in 9.714477853000062 sec\n",
      "voqc + voqc\n",
      "Completed in 0.6877074379999613 sec\n",
      "voqc + tket\n",
      "Completed in 2.863027572000192 sec\n",
      "voqc + staq\n",
      "Completed in 0.7538704559997313 sec\n",
      "tket + qiskit\n",
      "Completed in 3.4743699249997917 sec\n",
      "tket + pyzx\n",
      "Completed in 11.115520403000119 sec\n",
      "tket + voqc\n",
      "Completed in 2.8987932009999895 sec\n",
      "tket + tket\n",
      "Completed in 2.303143916999943 sec\n",
      "tket + staq\n",
      "Completed in 2.570718489000228 sec\n",
      "staq + qiskit\n",
      "Completed in 1.4395120089998272 sec\n",
      "staq + pyzx\n",
      "Completed in 10.95629995499985 sec\n",
      "staq + voqc\n",
      "Completed in 0.6052945100000215 sec\n",
      "staq + tket\n",
      "Completed in 2.721672650000073 sec\n",
      "staq + staq\n",
      "Completed in 0.03469022800027233 sec\n",
      "Nam-benchmarks/Arithmetic_and_Toffoli/barenco_tof_5.qasm\n",
      "qiskit + qiskit\n",
      "Completed in 0.5556467639999028 sec\n",
      "qiskit + pyzx\n",
      "Completed in 0.784451934000117 sec\n",
      "qiskit + voqc\n",
      "Completed in 0.7681972299997142 sec\n",
      "qiskit + tket\n",
      "Completed in 0.8074449680002544 sec\n",
      "qiskit + staq\n",
      "Completed in 0.39823083700002826 sec\n",
      "pyzx + qiskit\n",
      "Completed in 1.0284318620001613 sec\n",
      "pyzx + pyzx\n",
      "Completed in 0.5874805119997291 sec\n",
      "pyzx + voqc\n",
      "Completed in 0.7752358990001085 sec\n",
      "pyzx + tket\n",
      "Completed in 1.135040522000054 sec\n",
      "pyzx + staq\n",
      "Completed in 0.601382509999894 sec\n",
      "voqc + qiskit\n",
      "Completed in 0.9474611990003723 sec\n",
      "voqc + pyzx\n",
      "Completed in 0.8312648290002471 sec\n",
      "voqc + voqc\n",
      "Completed in 0.20629942399955326 sec\n",
      "voqc + tket\n",
      "Completed in 1.075121242000023 sec\n",
      "voqc + staq\n",
      "Completed in 0.3209694350002792 sec\n",
      "tket + qiskit\n",
      "Completed in 1.8114560439998968 sec\n",
      "tket + pyzx\n",
      "Completed in 1.8384703920000902 sec\n",
      "tket + voqc\n",
      "Completed in 1.0473760730001231 sec\n",
      "tket + tket\n",
      "Completed in 0.7323966320000181 sec\n",
      "tket + staq\n",
      "Completed in 0.7483772609998596 sec\n",
      "staq + qiskit\n",
      "Completed in 0.6072225439997965 sec\n",
      "staq + pyzx\n",
      "Completed in 0.860461791999569 sec\n",
      "staq + voqc\n",
      "Completed in 0.3297600259998035 sec\n",
      "staq + tket\n",
      "Completed in 0.738774838000154 sec\n",
      "staq + staq\n",
      "Completed in 0.011779793999721733 sec\n",
      "Nam-benchmarks/Arithmetic_and_Toffoli/gf2^4_mult.qasm\n",
      "qiskit + qiskit\n",
      "Completed in 0.7133608670001195 sec\n",
      "qiskit + pyzx\n",
      "Completed in 1.263603331000013 sec\n",
      "qiskit + voqc\n",
      "Completed in 1.344587190999846 sec\n",
      "qiskit + tket\n",
      "Completed in 1.5829061919998821 sec\n",
      "qiskit + staq\n",
      "Completed in 0.701794838999831 sec\n",
      "pyzx + qiskit\n",
      "Completed in 0.969350453000061 sec\n",
      "pyzx + pyzx\n",
      "Completed in 0.22671462000016618 sec\n",
      "pyzx + voqc\n",
      "Completed in 0.5090176100002282 sec\n",
      "pyzx + tket\n",
      "Completed in 0.944809689000067 sec\n",
      "pyzx + staq\n",
      "Completed in 0.2539711689996693 sec\n",
      "voqc + qiskit\n",
      "Completed in 1.4341288549999263 sec\n",
      "voqc + pyzx\n",
      "Completed in 0.5170110290000594 sec\n",
      "voqc + voqc\n",
      "Completed in 0.25960304599993833 sec\n",
      "voqc + tket\n",
      "Completed in 0.9191657580004176 sec\n",
      "voqc + staq\n",
      "Completed in 0.5275680019999527 sec\n",
      "tket + qiskit\n",
      "Completed in 0.975236533000043 sec\n",
      "tket + pyzx\n",
      "Completed in 0.7220550209999601 sec\n",
      "tket + voqc\n",
      "Completed in 1.0463810450000892 sec\n",
      "tket + tket\n",
      "Completed in 0.5721344680000584 sec\n",
      "tket + staq\n",
      "Completed in 0.5964230099998531 sec\n",
      "staq + qiskit\n",
      "Completed in 0.44760163599994485 sec\n",
      "staq + pyzx\n",
      "Completed in 0.2666144190002342 sec\n",
      "staq + voqc\n",
      "Completed in 0.5363593070001116 sec\n",
      "staq + tket\n",
      "Completed in 0.6444856220000474 sec\n",
      "staq + staq\n",
      "Completed in 0.011398932999782119 sec\n",
      "{'base': 0, 'qiskitqiskit': 7.907435490999887, 'qiskitpyzx': 24.897576526000194, 'qiskitvoqc': 5.0090729449998435, 'qiskittket': 7.4519306150000375, 'qiskitstaq': 2.6652846719998706, 'pyzxqiskit': 13.387868148000507, 'pyzxpyzx': 10.029560119000053, 'pyzxvoqc': 10.63892923000003, 'pyzxtket': 13.406010301000151, 'pyzxstaq': 9.98394137699961, 'voqcqiskit': 4.1908054000004995, 'voqcpyzx': 11.062753711000369, 'voqcvoqc': 1.1536099079994528, 'voqctket': 4.857314572000632, 'voqcstaq': 1.6024078929999632, 'tketqiskit': 6.2610625019997315, 'tketpyzx': 13.676045816000169, 'tketvoqc': 4.992550319000202, 'tkettket': 3.6076750170000196, 'tketstaq': 3.915518759999941, 'staqqiskit': 2.4943361889995685, 'staqpyzx': 12.083376165999653, 'staqvoqc': 1.4714138429999366, 'staqtket': 4.104933110000275, 'staqstaq': 0.05786895499977618}\n",
      "{'base': 1635, 'qiskitqiskit': 1729, 'qiskitpyzx': 1835, 'qiskitvoqc': 1332, 'qiskittket': 50464, 'qiskitstaq': 17449, 'pyzxqiskit': 1729, 'pyzxpyzx': 1835, 'pyzxvoqc': 1332, 'pyzxtket': 50411, 'pyzxstaq': 17443, 'voqcqiskit': 1729, 'voqcpyzx': 1835, 'voqcvoqc': 1332, 'voqctket': 50475, 'voqcstaq': 17443, 'tketqiskit': 1729, 'tketpyzx': 1835, 'tketvoqc': 1332, 'tkettket': 50454, 'tketstaq': 17449, 'staqqiskit': 1729, 'staqpyzx': 1835, 'staqvoqc': 1332, 'staqtket': 50462, 'staqstaq': 17449}\n",
      "{'base': 750, 'qiskitqiskit': 734, 'qiskitpyzx': 917, 'qiskitvoqc': 710, 'qiskittket': 720, 'qiskitstaq': 591, 'pyzxqiskit': 734, 'pyzxpyzx': 917, 'pyzxvoqc': 710, 'pyzxtket': 720, 'pyzxstaq': 591, 'voqcqiskit': 734, 'voqcpyzx': 917, 'voqcvoqc': 710, 'voqctket': 720, 'voqcstaq': 591, 'tketqiskit': 734, 'tketpyzx': 917, 'tketvoqc': 710, 'tkettket': 720, 'tketstaq': 591, 'staqqiskit': 734, 'staqpyzx': 917, 'staqvoqc': 710, 'staqtket': 720, 'staqstaq': 591}\n",
      "{'base': 765, 'qiskitqiskit': 707, 'qiskitpyzx': 281, 'qiskitvoqc': 329, 'qiskittket': 19334, 'qiskitstaq': 489, 'pyzxqiskit': 707, 'pyzxpyzx': 281, 'pyzxvoqc': 329, 'pyzxtket': 19334, 'pyzxstaq': 489, 'voqcqiskit': 707, 'voqcpyzx': 281, 'voqcvoqc': 329, 'voqctket': 19334, 'voqcstaq': 489, 'tketqiskit': 707, 'tketpyzx': 281, 'tketvoqc': 329, 'tkettket': 19334, 'tketstaq': 489, 'staqqiskit': 707, 'staqpyzx': 281, 'staqvoqc': 329, 'staqtket': 19334, 'staqstaq': 489}\n"
     ]
    }
   ],
   "source": [
    "import time\n",
    "\n",
    "total_time = dict()\n",
    "total_gates = dict()\n",
    "total_cnot_gates = dict()\n",
    "total_t_gates = dict()\n",
    "time_taken = dict()\n",
    "cnot_gate_count = dict()\n",
    "gate_count = dict()\n",
    "t_gate_count = dict()\n",
    "\n",
    "base_key = 'base'\n",
    "\n",
    "# Initalize\n",
    "total_time[base_key] = 0\n",
    "total_gates[base_key] = 0\n",
    "total_cnot_gates[base_key] = 0\n",
    "total_t_gates[base_key] = 0\n",
    "for compiler_name_1 in compilers:\n",
    "    for compiler_name_2 in compilers:\n",
    "        key = compiler_name_1 + compiler_name_2\n",
    "        time_taken[key] = dict()\n",
    "        cnot_gate_count[key] = dict()\n",
    "        t_gate_count[key] = dict()\n",
    "        gate_count[key] = dict()\n",
    "        total_time[key] = 0\n",
    "        total_gates[key] = 0\n",
    "        total_cnot_gates[key] = 0\n",
    "        total_t_gates[key] = 0\n",
    "\n",
    "# Benchmark individually\n",
    "completed_benchmarks = []\n",
    "for benchmark_file in benchmark_files:\n",
    "    if benchmark_file == \"temp_in.qasm\" or benchmark_file == \"tmp.qasm\":  # Ignore compiler artifacts\n",
    "        continue\n",
    "    print(benchmark_file)\n",
    "    benchmark = QuantumCircuit.from_qasm_file(\n",
    "        benchmark_file).decompose().qasm()  # Remove custom gate declarations since tket and voqc don't play nicely with them\n",
    "    assert not benchmark == \"\"\n",
    "    total_gates[base_key] += count_total_gates(benchmark)\n",
    "    total_cnot_gates[base_key] += count_cnot_gates(benchmark)\n",
    "    total_t_gates[base_key] += count_t_gates(benchmark)\n",
    "    for compiler_name_1 in compilers:\n",
    "        for compiler_name_2 in compilers:\n",
    "            key = compiler_name_1 + compiler_name_2\n",
    "            print(f\"{compiler_name_1} + {compiler_name_2}\")\n",
    "            start = time.perf_counter()\n",
    "            opt_qasm = compilers[compiler_name_1](benchmark)\n",
    "            if compiler_name_1 != compiler_name_2:\n",
    "                opt_qasm = compilers[compiler_name_2](benchmark)\n",
    "            stop = time.perf_counter()\n",
    "\n",
    "            temp_time_taken = stop - start\n",
    "            print(f\"Completed in {temp_time_taken} sec\")\n",
    "\n",
    "\n",
    "            total_time[key] += temp_time_taken\n",
    "            time_taken[key][str(benchmark_file)] = temp_time_taken\n",
    "\n",
    "            temp_gate_count = count_total_gates(opt_qasm)\n",
    "            total_gates[key] += temp_gate_count\n",
    "            gate_count[key][str(benchmark_file)] = temp_gate_count\n",
    "\n",
    "            temp_cnot_count = count_cnot_gates(opt_qasm)\n",
    "            total_cnot_gates[key] += temp_cnot_count\n",
    "            cnot_gate_count[key][str(benchmark_file)] = temp_cnot_count\n",
    "\n",
    "            temp_t_gate_count = count_t_gates(opt_qasm)\n",
    "            total_t_gates[key] += temp_t_gate_count\n",
    "            t_gate_count[key][str(benchmark_file)] = temp_t_gate_count\n",
    "\n",
    "    completed_benchmarks.append(str(benchmark_file))\n",
    "\n"
   ]
  },
  {
   "cell_type": "code",
   "execution_count": 65,
   "outputs": [
    {
     "name": "stdout",
     "output_type": "stream",
     "text": [
      "{'qiskitqiskit': {'Nam-benchmarks/Arithmetic_and_Toffoli/adder_8.qasm': 6.638427859999865, 'Nam-benchmarks/Arithmetic_and_Toffoli/barenco_tof_5.qasm': 0.5556467639999028, 'Nam-benchmarks/Arithmetic_and_Toffoli/gf2^4_mult.qasm': 0.7133608670001195}, 'qiskitpyzx': {'Nam-benchmarks/Arithmetic_and_Toffoli/adder_8.qasm': 22.849521261000064, 'Nam-benchmarks/Arithmetic_and_Toffoli/barenco_tof_5.qasm': 0.784451934000117, 'Nam-benchmarks/Arithmetic_and_Toffoli/gf2^4_mult.qasm': 1.263603331000013}, 'qiskitvoqc': {'Nam-benchmarks/Arithmetic_and_Toffoli/adder_8.qasm': 2.8962885240002834, 'Nam-benchmarks/Arithmetic_and_Toffoli/barenco_tof_5.qasm': 0.7681972299997142, 'Nam-benchmarks/Arithmetic_and_Toffoli/gf2^4_mult.qasm': 1.344587190999846}, 'qiskittket': {'Nam-benchmarks/Arithmetic_and_Toffoli/adder_8.qasm': 5.061579454999901, 'Nam-benchmarks/Arithmetic_and_Toffoli/barenco_tof_5.qasm': 0.8074449680002544, 'Nam-benchmarks/Arithmetic_and_Toffoli/gf2^4_mult.qasm': 1.5829061919998821}, 'qiskitstaq': {'Nam-benchmarks/Arithmetic_and_Toffoli/adder_8.qasm': 1.5652589960000114, 'Nam-benchmarks/Arithmetic_and_Toffoli/barenco_tof_5.qasm': 0.39823083700002826, 'Nam-benchmarks/Arithmetic_and_Toffoli/gf2^4_mult.qasm': 0.701794838999831}, 'pyzxqiskit': {'Nam-benchmarks/Arithmetic_and_Toffoli/adder_8.qasm': 11.390085833000285, 'Nam-benchmarks/Arithmetic_and_Toffoli/barenco_tof_5.qasm': 1.0284318620001613, 'Nam-benchmarks/Arithmetic_and_Toffoli/gf2^4_mult.qasm': 0.969350453000061}, 'pyzxpyzx': {'Nam-benchmarks/Arithmetic_and_Toffoli/adder_8.qasm': 9.215364987000157, 'Nam-benchmarks/Arithmetic_and_Toffoli/barenco_tof_5.qasm': 0.5874805119997291, 'Nam-benchmarks/Arithmetic_and_Toffoli/gf2^4_mult.qasm': 0.22671462000016618}, 'pyzxvoqc': {'Nam-benchmarks/Arithmetic_and_Toffoli/adder_8.qasm': 9.354675720999694, 'Nam-benchmarks/Arithmetic_and_Toffoli/barenco_tof_5.qasm': 0.7752358990001085, 'Nam-benchmarks/Arithmetic_and_Toffoli/gf2^4_mult.qasm': 0.5090176100002282}, 'pyzxtket': {'Nam-benchmarks/Arithmetic_and_Toffoli/adder_8.qasm': 11.32616009000003, 'Nam-benchmarks/Arithmetic_and_Toffoli/barenco_tof_5.qasm': 1.135040522000054, 'Nam-benchmarks/Arithmetic_and_Toffoli/gf2^4_mult.qasm': 0.944809689000067}, 'pyzxstaq': {'Nam-benchmarks/Arithmetic_and_Toffoli/adder_8.qasm': 9.128587698000047, 'Nam-benchmarks/Arithmetic_and_Toffoli/barenco_tof_5.qasm': 0.601382509999894, 'Nam-benchmarks/Arithmetic_and_Toffoli/gf2^4_mult.qasm': 0.2539711689996693}, 'voqcqiskit': {'Nam-benchmarks/Arithmetic_and_Toffoli/adder_8.qasm': 1.809215346000201, 'Nam-benchmarks/Arithmetic_and_Toffoli/barenco_tof_5.qasm': 0.9474611990003723, 'Nam-benchmarks/Arithmetic_and_Toffoli/gf2^4_mult.qasm': 1.4341288549999263}, 'voqcpyzx': {'Nam-benchmarks/Arithmetic_and_Toffoli/adder_8.qasm': 9.714477853000062, 'Nam-benchmarks/Arithmetic_and_Toffoli/barenco_tof_5.qasm': 0.8312648290002471, 'Nam-benchmarks/Arithmetic_and_Toffoli/gf2^4_mult.qasm': 0.5170110290000594}, 'voqcvoqc': {'Nam-benchmarks/Arithmetic_and_Toffoli/adder_8.qasm': 0.6877074379999613, 'Nam-benchmarks/Arithmetic_and_Toffoli/barenco_tof_5.qasm': 0.20629942399955326, 'Nam-benchmarks/Arithmetic_and_Toffoli/gf2^4_mult.qasm': 0.25960304599993833}, 'voqctket': {'Nam-benchmarks/Arithmetic_and_Toffoli/adder_8.qasm': 2.863027572000192, 'Nam-benchmarks/Arithmetic_and_Toffoli/barenco_tof_5.qasm': 1.075121242000023, 'Nam-benchmarks/Arithmetic_and_Toffoli/gf2^4_mult.qasm': 0.9191657580004176}, 'voqcstaq': {'Nam-benchmarks/Arithmetic_and_Toffoli/adder_8.qasm': 0.7538704559997313, 'Nam-benchmarks/Arithmetic_and_Toffoli/barenco_tof_5.qasm': 0.3209694350002792, 'Nam-benchmarks/Arithmetic_and_Toffoli/gf2^4_mult.qasm': 0.5275680019999527}, 'tketqiskit': {'Nam-benchmarks/Arithmetic_and_Toffoli/adder_8.qasm': 3.4743699249997917, 'Nam-benchmarks/Arithmetic_and_Toffoli/barenco_tof_5.qasm': 1.8114560439998968, 'Nam-benchmarks/Arithmetic_and_Toffoli/gf2^4_mult.qasm': 0.975236533000043}, 'tketpyzx': {'Nam-benchmarks/Arithmetic_and_Toffoli/adder_8.qasm': 11.115520403000119, 'Nam-benchmarks/Arithmetic_and_Toffoli/barenco_tof_5.qasm': 1.8384703920000902, 'Nam-benchmarks/Arithmetic_and_Toffoli/gf2^4_mult.qasm': 0.7220550209999601}, 'tketvoqc': {'Nam-benchmarks/Arithmetic_and_Toffoli/adder_8.qasm': 2.8987932009999895, 'Nam-benchmarks/Arithmetic_and_Toffoli/barenco_tof_5.qasm': 1.0473760730001231, 'Nam-benchmarks/Arithmetic_and_Toffoli/gf2^4_mult.qasm': 1.0463810450000892}, 'tkettket': {'Nam-benchmarks/Arithmetic_and_Toffoli/adder_8.qasm': 2.303143916999943, 'Nam-benchmarks/Arithmetic_and_Toffoli/barenco_tof_5.qasm': 0.7323966320000181, 'Nam-benchmarks/Arithmetic_and_Toffoli/gf2^4_mult.qasm': 0.5721344680000584}, 'tketstaq': {'Nam-benchmarks/Arithmetic_and_Toffoli/adder_8.qasm': 2.570718489000228, 'Nam-benchmarks/Arithmetic_and_Toffoli/barenco_tof_5.qasm': 0.7483772609998596, 'Nam-benchmarks/Arithmetic_and_Toffoli/gf2^4_mult.qasm': 0.5964230099998531}, 'staqqiskit': {'Nam-benchmarks/Arithmetic_and_Toffoli/adder_8.qasm': 1.4395120089998272, 'Nam-benchmarks/Arithmetic_and_Toffoli/barenco_tof_5.qasm': 0.6072225439997965, 'Nam-benchmarks/Arithmetic_and_Toffoli/gf2^4_mult.qasm': 0.44760163599994485}, 'staqpyzx': {'Nam-benchmarks/Arithmetic_and_Toffoli/adder_8.qasm': 10.95629995499985, 'Nam-benchmarks/Arithmetic_and_Toffoli/barenco_tof_5.qasm': 0.860461791999569, 'Nam-benchmarks/Arithmetic_and_Toffoli/gf2^4_mult.qasm': 0.2666144190002342}, 'staqvoqc': {'Nam-benchmarks/Arithmetic_and_Toffoli/adder_8.qasm': 0.6052945100000215, 'Nam-benchmarks/Arithmetic_and_Toffoli/barenco_tof_5.qasm': 0.3297600259998035, 'Nam-benchmarks/Arithmetic_and_Toffoli/gf2^4_mult.qasm': 0.5363593070001116}, 'staqtket': {'Nam-benchmarks/Arithmetic_and_Toffoli/adder_8.qasm': 2.721672650000073, 'Nam-benchmarks/Arithmetic_and_Toffoli/barenco_tof_5.qasm': 0.738774838000154, 'Nam-benchmarks/Arithmetic_and_Toffoli/gf2^4_mult.qasm': 0.6444856220000474}, 'staqstaq': {'Nam-benchmarks/Arithmetic_and_Toffoli/adder_8.qasm': 0.03469022800027233, 'Nam-benchmarks/Arithmetic_and_Toffoli/barenco_tof_5.qasm': 0.011779793999721733, 'Nam-benchmarks/Arithmetic_and_Toffoli/gf2^4_mult.qasm': 0.011398932999782119}}\n",
      "{'qiskitqiskit': {'Nam-benchmarks/Arithmetic_and_Toffoli/adder_8.qasm': 1198, 'Nam-benchmarks/Arithmetic_and_Toffoli/barenco_tof_5.qasm': 233, 'Nam-benchmarks/Arithmetic_and_Toffoli/gf2^4_mult.qasm': 298}, 'qiskitpyzx': {'Nam-benchmarks/Arithmetic_and_Toffoli/adder_8.qasm': 1036, 'Nam-benchmarks/Arithmetic_and_Toffoli/barenco_tof_5.qasm': 233, 'Nam-benchmarks/Arithmetic_and_Toffoli/gf2^4_mult.qasm': 566}, 'qiskitvoqc': {'Nam-benchmarks/Arithmetic_and_Toffoli/adder_8.qasm': 931, 'Nam-benchmarks/Arithmetic_and_Toffoli/barenco_tof_5.qasm': 165, 'Nam-benchmarks/Arithmetic_and_Toffoli/gf2^4_mult.qasm': 236}, 'qiskittket': {'Nam-benchmarks/Arithmetic_and_Toffoli/adder_8.qasm': 33275, 'Nam-benchmarks/Arithmetic_and_Toffoli/barenco_tof_5.qasm': 6863, 'Nam-benchmarks/Arithmetic_and_Toffoli/gf2^4_mult.qasm': 10326}, 'qiskitstaq': {'Nam-benchmarks/Arithmetic_and_Toffoli/adder_8.qasm': 13559, 'Nam-benchmarks/Arithmetic_and_Toffoli/barenco_tof_5.qasm': 3332, 'Nam-benchmarks/Arithmetic_and_Toffoli/gf2^4_mult.qasm': 558}, 'pyzxqiskit': {'Nam-benchmarks/Arithmetic_and_Toffoli/adder_8.qasm': 1198, 'Nam-benchmarks/Arithmetic_and_Toffoli/barenco_tof_5.qasm': 233, 'Nam-benchmarks/Arithmetic_and_Toffoli/gf2^4_mult.qasm': 298}, 'pyzxpyzx': {'Nam-benchmarks/Arithmetic_and_Toffoli/adder_8.qasm': 1036, 'Nam-benchmarks/Arithmetic_and_Toffoli/barenco_tof_5.qasm': 233, 'Nam-benchmarks/Arithmetic_and_Toffoli/gf2^4_mult.qasm': 566}, 'pyzxvoqc': {'Nam-benchmarks/Arithmetic_and_Toffoli/adder_8.qasm': 931, 'Nam-benchmarks/Arithmetic_and_Toffoli/barenco_tof_5.qasm': 165, 'Nam-benchmarks/Arithmetic_and_Toffoli/gf2^4_mult.qasm': 236}, 'pyzxtket': {'Nam-benchmarks/Arithmetic_and_Toffoli/adder_8.qasm': 33241, 'Nam-benchmarks/Arithmetic_and_Toffoli/barenco_tof_5.qasm': 6841, 'Nam-benchmarks/Arithmetic_and_Toffoli/gf2^4_mult.qasm': 10329}, 'pyzxstaq': {'Nam-benchmarks/Arithmetic_and_Toffoli/adder_8.qasm': 13559, 'Nam-benchmarks/Arithmetic_and_Toffoli/barenco_tof_5.qasm': 3332, 'Nam-benchmarks/Arithmetic_and_Toffoli/gf2^4_mult.qasm': 552}, 'voqcqiskit': {'Nam-benchmarks/Arithmetic_and_Toffoli/adder_8.qasm': 1198, 'Nam-benchmarks/Arithmetic_and_Toffoli/barenco_tof_5.qasm': 233, 'Nam-benchmarks/Arithmetic_and_Toffoli/gf2^4_mult.qasm': 298}, 'voqcpyzx': {'Nam-benchmarks/Arithmetic_and_Toffoli/adder_8.qasm': 1036, 'Nam-benchmarks/Arithmetic_and_Toffoli/barenco_tof_5.qasm': 233, 'Nam-benchmarks/Arithmetic_and_Toffoli/gf2^4_mult.qasm': 566}, 'voqcvoqc': {'Nam-benchmarks/Arithmetic_and_Toffoli/adder_8.qasm': 931, 'Nam-benchmarks/Arithmetic_and_Toffoli/barenco_tof_5.qasm': 165, 'Nam-benchmarks/Arithmetic_and_Toffoli/gf2^4_mult.qasm': 236}, 'voqctket': {'Nam-benchmarks/Arithmetic_and_Toffoli/adder_8.qasm': 33307, 'Nam-benchmarks/Arithmetic_and_Toffoli/barenco_tof_5.qasm': 6839, 'Nam-benchmarks/Arithmetic_and_Toffoli/gf2^4_mult.qasm': 10329}, 'voqcstaq': {'Nam-benchmarks/Arithmetic_and_Toffoli/adder_8.qasm': 13559, 'Nam-benchmarks/Arithmetic_and_Toffoli/barenco_tof_5.qasm': 3332, 'Nam-benchmarks/Arithmetic_and_Toffoli/gf2^4_mult.qasm': 552}, 'tketqiskit': {'Nam-benchmarks/Arithmetic_and_Toffoli/adder_8.qasm': 1198, 'Nam-benchmarks/Arithmetic_and_Toffoli/barenco_tof_5.qasm': 233, 'Nam-benchmarks/Arithmetic_and_Toffoli/gf2^4_mult.qasm': 298}, 'tketpyzx': {'Nam-benchmarks/Arithmetic_and_Toffoli/adder_8.qasm': 1036, 'Nam-benchmarks/Arithmetic_and_Toffoli/barenco_tof_5.qasm': 233, 'Nam-benchmarks/Arithmetic_and_Toffoli/gf2^4_mult.qasm': 566}, 'tketvoqc': {'Nam-benchmarks/Arithmetic_and_Toffoli/adder_8.qasm': 931, 'Nam-benchmarks/Arithmetic_and_Toffoli/barenco_tof_5.qasm': 165, 'Nam-benchmarks/Arithmetic_and_Toffoli/gf2^4_mult.qasm': 236}, 'tkettket': {'Nam-benchmarks/Arithmetic_and_Toffoli/adder_8.qasm': 33268, 'Nam-benchmarks/Arithmetic_and_Toffoli/barenco_tof_5.qasm': 6872, 'Nam-benchmarks/Arithmetic_and_Toffoli/gf2^4_mult.qasm': 10314}, 'tketstaq': {'Nam-benchmarks/Arithmetic_and_Toffoli/adder_8.qasm': 13559, 'Nam-benchmarks/Arithmetic_and_Toffoli/barenco_tof_5.qasm': 3332, 'Nam-benchmarks/Arithmetic_and_Toffoli/gf2^4_mult.qasm': 558}, 'staqqiskit': {'Nam-benchmarks/Arithmetic_and_Toffoli/adder_8.qasm': 1198, 'Nam-benchmarks/Arithmetic_and_Toffoli/barenco_tof_5.qasm': 233, 'Nam-benchmarks/Arithmetic_and_Toffoli/gf2^4_mult.qasm': 298}, 'staqpyzx': {'Nam-benchmarks/Arithmetic_and_Toffoli/adder_8.qasm': 1036, 'Nam-benchmarks/Arithmetic_and_Toffoli/barenco_tof_5.qasm': 233, 'Nam-benchmarks/Arithmetic_and_Toffoli/gf2^4_mult.qasm': 566}, 'staqvoqc': {'Nam-benchmarks/Arithmetic_and_Toffoli/adder_8.qasm': 931, 'Nam-benchmarks/Arithmetic_and_Toffoli/barenco_tof_5.qasm': 165, 'Nam-benchmarks/Arithmetic_and_Toffoli/gf2^4_mult.qasm': 236}, 'staqtket': {'Nam-benchmarks/Arithmetic_and_Toffoli/adder_8.qasm': 33271, 'Nam-benchmarks/Arithmetic_and_Toffoli/barenco_tof_5.qasm': 6873, 'Nam-benchmarks/Arithmetic_and_Toffoli/gf2^4_mult.qasm': 10318}, 'staqstaq': {'Nam-benchmarks/Arithmetic_and_Toffoli/adder_8.qasm': 13559, 'Nam-benchmarks/Arithmetic_and_Toffoli/barenco_tof_5.qasm': 3332, 'Nam-benchmarks/Arithmetic_and_Toffoli/gf2^4_mult.qasm': 558}}\n",
      "{'qiskitqiskit': {'Nam-benchmarks/Arithmetic_and_Toffoli/adder_8.qasm': 507, 'Nam-benchmarks/Arithmetic_and_Toffoli/barenco_tof_5.qasm': 96, 'Nam-benchmarks/Arithmetic_and_Toffoli/gf2^4_mult.qasm': 131}, 'qiskitpyzx': {'Nam-benchmarks/Arithmetic_and_Toffoli/adder_8.qasm': 504, 'Nam-benchmarks/Arithmetic_and_Toffoli/barenco_tof_5.qasm': 96, 'Nam-benchmarks/Arithmetic_and_Toffoli/gf2^4_mult.qasm': 317}, 'qiskitvoqc': {'Nam-benchmarks/Arithmetic_and_Toffoli/adder_8.qasm': 493, 'Nam-benchmarks/Arithmetic_and_Toffoli/barenco_tof_5.qasm': 86, 'Nam-benchmarks/Arithmetic_and_Toffoli/gf2^4_mult.qasm': 131}, 'qiskittket': {'Nam-benchmarks/Arithmetic_and_Toffoli/adder_8.qasm': 504, 'Nam-benchmarks/Arithmetic_and_Toffoli/barenco_tof_5.qasm': 86, 'Nam-benchmarks/Arithmetic_and_Toffoli/gf2^4_mult.qasm': 130}, 'qiskitstaq': {'Nam-benchmarks/Arithmetic_and_Toffoli/adder_8.qasm': 392, 'Nam-benchmarks/Arithmetic_and_Toffoli/barenco_tof_5.qasm': 64, 'Nam-benchmarks/Arithmetic_and_Toffoli/gf2^4_mult.qasm': 135}, 'pyzxqiskit': {'Nam-benchmarks/Arithmetic_and_Toffoli/adder_8.qasm': 507, 'Nam-benchmarks/Arithmetic_and_Toffoli/barenco_tof_5.qasm': 96, 'Nam-benchmarks/Arithmetic_and_Toffoli/gf2^4_mult.qasm': 131}, 'pyzxpyzx': {'Nam-benchmarks/Arithmetic_and_Toffoli/adder_8.qasm': 504, 'Nam-benchmarks/Arithmetic_and_Toffoli/barenco_tof_5.qasm': 96, 'Nam-benchmarks/Arithmetic_and_Toffoli/gf2^4_mult.qasm': 317}, 'pyzxvoqc': {'Nam-benchmarks/Arithmetic_and_Toffoli/adder_8.qasm': 493, 'Nam-benchmarks/Arithmetic_and_Toffoli/barenco_tof_5.qasm': 86, 'Nam-benchmarks/Arithmetic_and_Toffoli/gf2^4_mult.qasm': 131}, 'pyzxtket': {'Nam-benchmarks/Arithmetic_and_Toffoli/adder_8.qasm': 504, 'Nam-benchmarks/Arithmetic_and_Toffoli/barenco_tof_5.qasm': 86, 'Nam-benchmarks/Arithmetic_and_Toffoli/gf2^4_mult.qasm': 130}, 'pyzxstaq': {'Nam-benchmarks/Arithmetic_and_Toffoli/adder_8.qasm': 392, 'Nam-benchmarks/Arithmetic_and_Toffoli/barenco_tof_5.qasm': 64, 'Nam-benchmarks/Arithmetic_and_Toffoli/gf2^4_mult.qasm': 135}, 'voqcqiskit': {'Nam-benchmarks/Arithmetic_and_Toffoli/adder_8.qasm': 507, 'Nam-benchmarks/Arithmetic_and_Toffoli/barenco_tof_5.qasm': 96, 'Nam-benchmarks/Arithmetic_and_Toffoli/gf2^4_mult.qasm': 131}, 'voqcpyzx': {'Nam-benchmarks/Arithmetic_and_Toffoli/adder_8.qasm': 504, 'Nam-benchmarks/Arithmetic_and_Toffoli/barenco_tof_5.qasm': 96, 'Nam-benchmarks/Arithmetic_and_Toffoli/gf2^4_mult.qasm': 317}, 'voqcvoqc': {'Nam-benchmarks/Arithmetic_and_Toffoli/adder_8.qasm': 493, 'Nam-benchmarks/Arithmetic_and_Toffoli/barenco_tof_5.qasm': 86, 'Nam-benchmarks/Arithmetic_and_Toffoli/gf2^4_mult.qasm': 131}, 'voqctket': {'Nam-benchmarks/Arithmetic_and_Toffoli/adder_8.qasm': 504, 'Nam-benchmarks/Arithmetic_and_Toffoli/barenco_tof_5.qasm': 86, 'Nam-benchmarks/Arithmetic_and_Toffoli/gf2^4_mult.qasm': 130}, 'voqcstaq': {'Nam-benchmarks/Arithmetic_and_Toffoli/adder_8.qasm': 392, 'Nam-benchmarks/Arithmetic_and_Toffoli/barenco_tof_5.qasm': 64, 'Nam-benchmarks/Arithmetic_and_Toffoli/gf2^4_mult.qasm': 135}, 'tketqiskit': {'Nam-benchmarks/Arithmetic_and_Toffoli/adder_8.qasm': 507, 'Nam-benchmarks/Arithmetic_and_Toffoli/barenco_tof_5.qasm': 96, 'Nam-benchmarks/Arithmetic_and_Toffoli/gf2^4_mult.qasm': 131}, 'tketpyzx': {'Nam-benchmarks/Arithmetic_and_Toffoli/adder_8.qasm': 504, 'Nam-benchmarks/Arithmetic_and_Toffoli/barenco_tof_5.qasm': 96, 'Nam-benchmarks/Arithmetic_and_Toffoli/gf2^4_mult.qasm': 317}, 'tketvoqc': {'Nam-benchmarks/Arithmetic_and_Toffoli/adder_8.qasm': 493, 'Nam-benchmarks/Arithmetic_and_Toffoli/barenco_tof_5.qasm': 86, 'Nam-benchmarks/Arithmetic_and_Toffoli/gf2^4_mult.qasm': 131}, 'tkettket': {'Nam-benchmarks/Arithmetic_and_Toffoli/adder_8.qasm': 504, 'Nam-benchmarks/Arithmetic_and_Toffoli/barenco_tof_5.qasm': 86, 'Nam-benchmarks/Arithmetic_and_Toffoli/gf2^4_mult.qasm': 130}, 'tketstaq': {'Nam-benchmarks/Arithmetic_and_Toffoli/adder_8.qasm': 392, 'Nam-benchmarks/Arithmetic_and_Toffoli/barenco_tof_5.qasm': 64, 'Nam-benchmarks/Arithmetic_and_Toffoli/gf2^4_mult.qasm': 135}, 'staqqiskit': {'Nam-benchmarks/Arithmetic_and_Toffoli/adder_8.qasm': 507, 'Nam-benchmarks/Arithmetic_and_Toffoli/barenco_tof_5.qasm': 96, 'Nam-benchmarks/Arithmetic_and_Toffoli/gf2^4_mult.qasm': 131}, 'staqpyzx': {'Nam-benchmarks/Arithmetic_and_Toffoli/adder_8.qasm': 504, 'Nam-benchmarks/Arithmetic_and_Toffoli/barenco_tof_5.qasm': 96, 'Nam-benchmarks/Arithmetic_and_Toffoli/gf2^4_mult.qasm': 317}, 'staqvoqc': {'Nam-benchmarks/Arithmetic_and_Toffoli/adder_8.qasm': 493, 'Nam-benchmarks/Arithmetic_and_Toffoli/barenco_tof_5.qasm': 86, 'Nam-benchmarks/Arithmetic_and_Toffoli/gf2^4_mult.qasm': 131}, 'staqtket': {'Nam-benchmarks/Arithmetic_and_Toffoli/adder_8.qasm': 504, 'Nam-benchmarks/Arithmetic_and_Toffoli/barenco_tof_5.qasm': 86, 'Nam-benchmarks/Arithmetic_and_Toffoli/gf2^4_mult.qasm': 130}, 'staqstaq': {'Nam-benchmarks/Arithmetic_and_Toffoli/adder_8.qasm': 392, 'Nam-benchmarks/Arithmetic_and_Toffoli/barenco_tof_5.qasm': 64, 'Nam-benchmarks/Arithmetic_and_Toffoli/gf2^4_mult.qasm': 135}}\n",
      "{'qiskitqiskit': {'Nam-benchmarks/Arithmetic_and_Toffoli/adder_8.qasm': 473, 'Nam-benchmarks/Arithmetic_and_Toffoli/barenco_tof_5.qasm': 106, 'Nam-benchmarks/Arithmetic_and_Toffoli/gf2^4_mult.qasm': 128}, 'qiskitpyzx': {'Nam-benchmarks/Arithmetic_and_Toffoli/adder_8.qasm': 173, 'Nam-benchmarks/Arithmetic_and_Toffoli/barenco_tof_5.qasm': 40, 'Nam-benchmarks/Arithmetic_and_Toffoli/gf2^4_mult.qasm': 68}, 'qiskitvoqc': {'Nam-benchmarks/Arithmetic_and_Toffoli/adder_8.qasm': 217, 'Nam-benchmarks/Arithmetic_and_Toffoli/barenco_tof_5.qasm': 44, 'Nam-benchmarks/Arithmetic_and_Toffoli/gf2^4_mult.qasm': 68}, 'qiskittket': {'Nam-benchmarks/Arithmetic_and_Toffoli/adder_8.qasm': 12740, 'Nam-benchmarks/Arithmetic_and_Toffoli/barenco_tof_5.qasm': 2627, 'Nam-benchmarks/Arithmetic_and_Toffoli/gf2^4_mult.qasm': 3967}, 'qiskitstaq': {'Nam-benchmarks/Arithmetic_and_Toffoli/adder_8.qasm': 247, 'Nam-benchmarks/Arithmetic_and_Toffoli/barenco_tof_5.qasm': 48, 'Nam-benchmarks/Arithmetic_and_Toffoli/gf2^4_mult.qasm': 194}, 'pyzxqiskit': {'Nam-benchmarks/Arithmetic_and_Toffoli/adder_8.qasm': 473, 'Nam-benchmarks/Arithmetic_and_Toffoli/barenco_tof_5.qasm': 106, 'Nam-benchmarks/Arithmetic_and_Toffoli/gf2^4_mult.qasm': 128}, 'pyzxpyzx': {'Nam-benchmarks/Arithmetic_and_Toffoli/adder_8.qasm': 173, 'Nam-benchmarks/Arithmetic_and_Toffoli/barenco_tof_5.qasm': 40, 'Nam-benchmarks/Arithmetic_and_Toffoli/gf2^4_mult.qasm': 68}, 'pyzxvoqc': {'Nam-benchmarks/Arithmetic_and_Toffoli/adder_8.qasm': 217, 'Nam-benchmarks/Arithmetic_and_Toffoli/barenco_tof_5.qasm': 44, 'Nam-benchmarks/Arithmetic_and_Toffoli/gf2^4_mult.qasm': 68}, 'pyzxtket': {'Nam-benchmarks/Arithmetic_and_Toffoli/adder_8.qasm': 12740, 'Nam-benchmarks/Arithmetic_and_Toffoli/barenco_tof_5.qasm': 2627, 'Nam-benchmarks/Arithmetic_and_Toffoli/gf2^4_mult.qasm': 3967}, 'pyzxstaq': {'Nam-benchmarks/Arithmetic_and_Toffoli/adder_8.qasm': 247, 'Nam-benchmarks/Arithmetic_and_Toffoli/barenco_tof_5.qasm': 48, 'Nam-benchmarks/Arithmetic_and_Toffoli/gf2^4_mult.qasm': 194}, 'voqcqiskit': {'Nam-benchmarks/Arithmetic_and_Toffoli/adder_8.qasm': 473, 'Nam-benchmarks/Arithmetic_and_Toffoli/barenco_tof_5.qasm': 106, 'Nam-benchmarks/Arithmetic_and_Toffoli/gf2^4_mult.qasm': 128}, 'voqcpyzx': {'Nam-benchmarks/Arithmetic_and_Toffoli/adder_8.qasm': 173, 'Nam-benchmarks/Arithmetic_and_Toffoli/barenco_tof_5.qasm': 40, 'Nam-benchmarks/Arithmetic_and_Toffoli/gf2^4_mult.qasm': 68}, 'voqcvoqc': {'Nam-benchmarks/Arithmetic_and_Toffoli/adder_8.qasm': 217, 'Nam-benchmarks/Arithmetic_and_Toffoli/barenco_tof_5.qasm': 44, 'Nam-benchmarks/Arithmetic_and_Toffoli/gf2^4_mult.qasm': 68}, 'voqctket': {'Nam-benchmarks/Arithmetic_and_Toffoli/adder_8.qasm': 12740, 'Nam-benchmarks/Arithmetic_and_Toffoli/barenco_tof_5.qasm': 2627, 'Nam-benchmarks/Arithmetic_and_Toffoli/gf2^4_mult.qasm': 3967}, 'voqcstaq': {'Nam-benchmarks/Arithmetic_and_Toffoli/adder_8.qasm': 247, 'Nam-benchmarks/Arithmetic_and_Toffoli/barenco_tof_5.qasm': 48, 'Nam-benchmarks/Arithmetic_and_Toffoli/gf2^4_mult.qasm': 194}, 'tketqiskit': {'Nam-benchmarks/Arithmetic_and_Toffoli/adder_8.qasm': 473, 'Nam-benchmarks/Arithmetic_and_Toffoli/barenco_tof_5.qasm': 106, 'Nam-benchmarks/Arithmetic_and_Toffoli/gf2^4_mult.qasm': 128}, 'tketpyzx': {'Nam-benchmarks/Arithmetic_and_Toffoli/adder_8.qasm': 173, 'Nam-benchmarks/Arithmetic_and_Toffoli/barenco_tof_5.qasm': 40, 'Nam-benchmarks/Arithmetic_and_Toffoli/gf2^4_mult.qasm': 68}, 'tketvoqc': {'Nam-benchmarks/Arithmetic_and_Toffoli/adder_8.qasm': 217, 'Nam-benchmarks/Arithmetic_and_Toffoli/barenco_tof_5.qasm': 44, 'Nam-benchmarks/Arithmetic_and_Toffoli/gf2^4_mult.qasm': 68}, 'tkettket': {'Nam-benchmarks/Arithmetic_and_Toffoli/adder_8.qasm': 12740, 'Nam-benchmarks/Arithmetic_and_Toffoli/barenco_tof_5.qasm': 2627, 'Nam-benchmarks/Arithmetic_and_Toffoli/gf2^4_mult.qasm': 3967}, 'tketstaq': {'Nam-benchmarks/Arithmetic_and_Toffoli/adder_8.qasm': 247, 'Nam-benchmarks/Arithmetic_and_Toffoli/barenco_tof_5.qasm': 48, 'Nam-benchmarks/Arithmetic_and_Toffoli/gf2^4_mult.qasm': 194}, 'staqqiskit': {'Nam-benchmarks/Arithmetic_and_Toffoli/adder_8.qasm': 473, 'Nam-benchmarks/Arithmetic_and_Toffoli/barenco_tof_5.qasm': 106, 'Nam-benchmarks/Arithmetic_and_Toffoli/gf2^4_mult.qasm': 128}, 'staqpyzx': {'Nam-benchmarks/Arithmetic_and_Toffoli/adder_8.qasm': 173, 'Nam-benchmarks/Arithmetic_and_Toffoli/barenco_tof_5.qasm': 40, 'Nam-benchmarks/Arithmetic_and_Toffoli/gf2^4_mult.qasm': 68}, 'staqvoqc': {'Nam-benchmarks/Arithmetic_and_Toffoli/adder_8.qasm': 217, 'Nam-benchmarks/Arithmetic_and_Toffoli/barenco_tof_5.qasm': 44, 'Nam-benchmarks/Arithmetic_and_Toffoli/gf2^4_mult.qasm': 68}, 'staqtket': {'Nam-benchmarks/Arithmetic_and_Toffoli/adder_8.qasm': 12740, 'Nam-benchmarks/Arithmetic_and_Toffoli/barenco_tof_5.qasm': 2627, 'Nam-benchmarks/Arithmetic_and_Toffoli/gf2^4_mult.qasm': 3967}, 'staqstaq': {'Nam-benchmarks/Arithmetic_and_Toffoli/adder_8.qasm': 247, 'Nam-benchmarks/Arithmetic_and_Toffoli/barenco_tof_5.qasm': 48, 'Nam-benchmarks/Arithmetic_and_Toffoli/gf2^4_mult.qasm': 194}}\n",
      "{'base': 0, 'qiskitqiskit': 7.907435490999887, 'qiskitpyzx': 24.897576526000194, 'qiskitvoqc': 5.0090729449998435, 'qiskittket': 7.4519306150000375, 'qiskitstaq': 2.6652846719998706, 'pyzxqiskit': 13.387868148000507, 'pyzxpyzx': 10.029560119000053, 'pyzxvoqc': 10.63892923000003, 'pyzxtket': 13.406010301000151, 'pyzxstaq': 9.98394137699961, 'voqcqiskit': 4.1908054000004995, 'voqcpyzx': 11.062753711000369, 'voqcvoqc': 1.1536099079994528, 'voqctket': 4.857314572000632, 'voqcstaq': 1.6024078929999632, 'tketqiskit': 6.2610625019997315, 'tketpyzx': 13.676045816000169, 'tketvoqc': 4.992550319000202, 'tkettket': 3.6076750170000196, 'tketstaq': 3.915518759999941, 'staqqiskit': 2.4943361889995685, 'staqpyzx': 12.083376165999653, 'staqvoqc': 1.4714138429999366, 'staqtket': 4.104933110000275, 'staqstaq': 0.05786895499977618}\n",
      "{'base': 1635, 'qiskitqiskit': 1729, 'qiskitpyzx': 1835, 'qiskitvoqc': 1332, 'qiskittket': 50464, 'qiskitstaq': 17449, 'pyzxqiskit': 1729, 'pyzxpyzx': 1835, 'pyzxvoqc': 1332, 'pyzxtket': 50411, 'pyzxstaq': 17443, 'voqcqiskit': 1729, 'voqcpyzx': 1835, 'voqcvoqc': 1332, 'voqctket': 50475, 'voqcstaq': 17443, 'tketqiskit': 1729, 'tketpyzx': 1835, 'tketvoqc': 1332, 'tkettket': 50454, 'tketstaq': 17449, 'staqqiskit': 1729, 'staqpyzx': 1835, 'staqvoqc': 1332, 'staqtket': 50462, 'staqstaq': 17449}\n",
      "{'base': 750, 'qiskitqiskit': 734, 'qiskitpyzx': 917, 'qiskitvoqc': 710, 'qiskittket': 720, 'qiskitstaq': 591, 'pyzxqiskit': 734, 'pyzxpyzx': 917, 'pyzxvoqc': 710, 'pyzxtket': 720, 'pyzxstaq': 591, 'voqcqiskit': 734, 'voqcpyzx': 917, 'voqcvoqc': 710, 'voqctket': 720, 'voqcstaq': 591, 'tketqiskit': 734, 'tketpyzx': 917, 'tketvoqc': 710, 'tkettket': 720, 'tketstaq': 591, 'staqqiskit': 734, 'staqpyzx': 917, 'staqvoqc': 710, 'staqtket': 720, 'staqstaq': 591}\n",
      "{'base': 765, 'qiskitqiskit': 707, 'qiskitpyzx': 281, 'qiskitvoqc': 329, 'qiskittket': 19334, 'qiskitstaq': 489, 'pyzxqiskit': 707, 'pyzxpyzx': 281, 'pyzxvoqc': 329, 'pyzxtket': 19334, 'pyzxstaq': 489, 'voqcqiskit': 707, 'voqcpyzx': 281, 'voqcvoqc': 329, 'voqctket': 19334, 'voqcstaq': 489, 'tketqiskit': 707, 'tketpyzx': 281, 'tketvoqc': 329, 'tkettket': 19334, 'tketstaq': 489, 'staqqiskit': 707, 'staqpyzx': 281, 'staqvoqc': 329, 'staqtket': 19334, 'staqstaq': 489}\n"
     ]
    }
   ],
   "source": [
    "# Print results\n",
    "print(time_taken)\n",
    "print(gate_count)\n",
    "print(cnot_gate_count)\n",
    "print(t_gate_count)\n",
    "print(total_time)\n",
    "print(total_gates)\n",
    "print(total_cnot_gates)\n",
    "print(total_t_gates)"
   ],
   "metadata": {
    "collapsed": false,
    "pycharm": {
     "name": "#%%\n"
    }
   }
  },
  {
   "cell_type": "code",
   "execution_count": 66,
   "outputs": [],
   "source": [
    "import pickle\n",
    "\n",
    "\n",
    "def get_new_file(base_name):\n",
    "    i = 0\n",
    "    while os.path.exists(f\"{base_name}{i}.pkl\"):\n",
    "        i += 1\n",
    "    return open(f\"{base_name}{i}.pkl\", 'wb')\n",
    "\n",
    "\n",
    "pickle.dump(completed_benchmarks, get_new_file(\"completed_benchmarks\"))\n",
    "pickle.dump(total_time, get_new_file(\"total_time\"))\n",
    "pickle.dump(time_taken, get_new_file(\"time\"))\n",
    "pickle.dump(total_gates, get_new_file(\"total_gates\"))\n",
    "pickle.dump(gate_count, get_new_file(\"gates\"))\n",
    "pickle.dump(total_t_gates, get_new_file(\"total_t_gates\"))\n",
    "pickle.dump(t_gate_count, get_new_file(\"t_gates\"))\n",
    "pickle.dump(total_cnot_gates, get_new_file(\"total_cnot_gates\"))\n",
    "pickle.dump(cnot_gate_count, get_new_file(\"cnot_gates\"))"
   ],
   "metadata": {
    "collapsed": false,
    "pycharm": {
     "name": "#%%\n"
    }
   }
  },
  {
   "cell_type": "code",
   "execution_count": null,
   "outputs": [],
   "source": [],
   "metadata": {
    "collapsed": false,
    "pycharm": {
     "name": "#%%\n"
    }
   }
  }
 ],
 "metadata": {
  "kernelspec": {
   "display_name": "Python 3 (ipykernel)",
   "language": "python",
   "name": "python3"
  },
  "language_info": {
   "codemirror_mode": {
    "name": "ipython",
    "version": 3
   },
   "file_extension": ".py",
   "mimetype": "text/x-python",
   "name": "python",
   "nbconvert_exporter": "python",
   "pygments_lexer": "ipython3",
   "version": "3.9.10"
  }
 },
 "nbformat": 4,
 "nbformat_minor": 1
}