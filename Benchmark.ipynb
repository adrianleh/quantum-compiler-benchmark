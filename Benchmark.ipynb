{
 "cells": [
  {
   "cell_type": "markdown",
   "metadata": {
    "pycharm": {
     "name": "#%% md\n"
    }
   },
   "source": [
    "# Benchmarking different quantum compilers\n"
   ]
  },
  {
   "cell_type": "code",
   "execution_count": null,
   "metadata": {
    "pycharm": {
     "name": "#%%\n"
    }
   },
   "outputs": [],
   "source": []
  },
  {
   "cell_type": "markdown",
   "metadata": {
    "pycharm": {
     "name": "#%% md\n"
    }
   },
   "source": [
    "## Load benchmarks"
   ]
  },
  {
   "cell_type": "code",
   "execution_count": null,
   "metadata": {
    "pycharm": {
     "name": "#%%\n"
    }
   },
   "outputs": [],
   "source": [
    "import os\n",
    "import subprocess\n",
    "from pathlib import Path\n",
    "\n",
    "benchmark_files = list(Path(\".\").rglob(\"*.qasm\"))"
   ]
  },
  {
   "cell_type": "markdown",
   "metadata": {
    "pycharm": {
     "name": "#%% md\n"
    }
   },
   "source": [
    "## Prepare compilers"
   ]
  },
  {
   "cell_type": "code",
   "execution_count": null,
   "metadata": {
    "pycharm": {
     "name": "#%%\n"
    }
   },
   "outputs": [],
   "source": [
    "compilers = dict()"
   ]
  },
  {
   "cell_type": "markdown",
   "metadata": {
    "pycharm": {
     "name": "#%% md\n"
    }
   },
   "source": [
    "## QisKit"
   ]
  },
  {
   "cell_type": "code",
   "execution_count": null,
   "metadata": {
    "pycharm": {
     "name": "#%%\n"
    }
   },
   "outputs": [],
   "source": [
    "from qiskit.compiler import transpile"
   ]
  },
  {
   "cell_type": "code",
   "execution_count": null,
   "metadata": {
    "pycharm": {
     "name": "#%%\n"
    }
   },
   "outputs": [],
   "source": [
    "def optimize_qiskit(qasm):\n",
    "    qc = QuantumCircuit.from_qasm_str(qasm)\n",
    "    opt_qc = transpile(qc, optimization_level=3, approximation_degree=1.0,\n",
    "                       basis_gates=['rz', 'rx', 'h', 't', 'tdag', 's', 'cx'])\n",
    "    return opt_qc.qasm()\n",
    "\n",
    "\n",
    "compilers['qiskit'] = optimize_qiskit"
   ]
  },
  {
   "cell_type": "markdown",
   "metadata": {
    "pycharm": {
     "name": "#%% md\n"
    }
   },
   "source": [
    "## PyZX"
   ]
  },
  {
   "cell_type": "code",
   "execution_count": null,
   "metadata": {
    "pycharm": {
     "name": "#%%\n"
    }
   },
   "outputs": [],
   "source": [
    "import pyzx as zx"
   ]
  },
  {
   "cell_type": "code",
   "execution_count": null,
   "metadata": {
    "pycharm": {
     "name": "#%%\n"
    }
   },
   "outputs": [],
   "source": [
    "def optimize_pyzx(qasm):\n",
    "    c = zx.Circuit.from_qasm(qasm)\n",
    "    c = c.to_graph()\n",
    "    zx.simplify.full_reduce(c)\n",
    "    c.normalize()\n",
    "    c_opt = zx.extract_circuit(c.copy(), quiet=True, optimize_cnots=3).to_basic_gates()\n",
    "    return c_opt.to_qasm()\n",
    "\n",
    "\n",
    "compilers['pyzx'] = optimize_pyzx"
   ]
  },
  {
   "cell_type": "markdown",
   "metadata": {
    "pycharm": {
     "name": "#%% md\n"
    }
   },
   "source": [
    "## VOQC"
   ]
  },
  {
   "cell_type": "markdown",
   "metadata": {
    "pycharm": {
     "name": "#%% md\n"
    }
   },
   "source": [
    "To install voqc run\n",
    "```shell\n",
    "git submodule update --remote\n",
    "cd pyvoqc\n",
    "opam pin voqc https://github.com/inQWIRE/mlvoqc.git#mapping\n",
    "./install.sh\n",
    "```\n",
    "Then copy pyvoqc/lib to your site packages pyvoqc folder"
   ]
  },
  {
   "cell_type": "code",
   "execution_count": null,
   "metadata": {
    "pycharm": {
     "name": "#%%\n"
    }
   },
   "outputs": [],
   "source": [
    "from qiskit import QuantumCircuit\n",
    "from pyvoqc.qiskit.voqc_pass import voqc_pass_manager"
   ]
  },
  {
   "cell_type": "code",
   "execution_count": null,
   "metadata": {
    "pycharm": {
     "name": "#%%\n"
    }
   },
   "outputs": [],
   "source": [
    "def optimize_voqc(qasm):\n",
    "    qc = QuantumCircuit.from_qasm_str(qasm)\n",
    "    vpm = voqc_pass_manager(post_opts=[\"optimize\"])\n",
    "    qc_opt = vpm.run(qc)\n",
    "    return qc_opt.qasm()\n",
    "\n",
    "\n",
    "compilers['voqc'] = optimize_voqc"
   ]
  },
  {
   "cell_type": "markdown",
   "metadata": {
    "pycharm": {
     "name": "#%% md\n"
    }
   },
   "source": []
  },
  {
   "cell_type": "markdown",
   "metadata": {
    "pycharm": {
     "name": "#%% md\n"
    }
   },
   "source": [
    "## $\\mid$tket$\\rangle$"
   ]
  },
  {
   "cell_type": "code",
   "execution_count": null,
   "metadata": {
    "pycharm": {
     "name": "#%%\n"
    }
   },
   "outputs": [],
   "source": [
    "from pytket.qasm import circuit_from_qasm_str, circuit_to_qasm_str\n",
    "from pytket.passes import SequencePass, RemoveRedundancies, FullPeepholeOptimise, auto_rebase_pass\n",
    "from pytket.predicates import CompilationUnit\n",
    "from pytket import OpType"
   ]
  },
  {
   "cell_type": "code",
   "execution_count": null,
   "metadata": {
    "pycharm": {
     "name": "#%%\n"
    }
   },
   "outputs": [],
   "source": [
    "def optimize_tket(qasm):\n",
    "    qc = circuit_from_qasm_str(qasm)\n",
    "    gates = {OpType.Rz, OpType.Rx, OpType.H, OpType.T, OpType.Tdg, OpType.S, OpType.CX}\n",
    "    rebase = auto_rebase_pass(gates)\n",
    "    seqpass = SequencePass(\n",
    "        [\n",
    "            FullPeepholeOptimise(),\n",
    "            RemoveRedundancies(),\n",
    "            rebase,\n",
    "        ])\n",
    "    cu = CompilationUnit(qc)\n",
    "    seqpass.apply(cu)\n",
    "    qc_opt = cu.circuit\n",
    "    return circuit_to_qasm_str(qc_opt)\n",
    "\n",
    "\n",
    "compilers['tket'] = optimize_tket"
   ]
  },
  {
   "cell_type": "markdown",
   "metadata": {
    "pycharm": {
     "name": "#%% md\n"
    }
   },
   "source": [
    "## Staq"
   ]
  },
  {
   "cell_type": "code",
   "execution_count": null,
   "metadata": {
    "pycharm": {
     "name": "#%%\n"
    }
   },
   "outputs": [],
   "source": [
    "import pystaq\n"
   ]
  },
  {
   "cell_type": "code",
   "execution_count": null,
   "metadata": {
    "pycharm": {
     "name": "#%%\n"
    }
   },
   "outputs": [],
   "source": [
    "def optimize_staq(qasm):\n",
    "    qc = pystaq.parse_str(qasm)\n",
    "    pystaq.simplify(qc)\n",
    "    pystaq.rotation_fold(qc)\n",
    "    pystaq.simplify(qc)\n",
    "    pystaq.cnot_resynth(qc)\n",
    "    pystaq.simplify(qc)\n",
    "    return str(qc)\n",
    "\n",
    "\n",
    "compilers['staq'] = optimize_staq\n"
   ]
  },
  {
   "cell_type": "markdown",
   "metadata": {
    "pycharm": {
     "name": "#%% md\n"
    }
   },
   "source": [
    "# Run Benchmarks"
   ]
  },
  {
   "cell_type": "markdown",
   "metadata": {
    "pycharm": {
     "name": "#%% md\n"
    }
   },
   "source": [
    "## Gate counting\n",
    "\n",
    "We count gates by finding them in the circuit representation.\n",
    "Though, we assume a error corrected gate set, meaning we will synthesize any rotations that are not of form $c \\times \\frac{pi}{4}$ using Peter Sellinger's gridsynth (https://www.mathstat.dal.ca/~selinger/newsynth/)"
   ]
  },
  {
   "cell_type": "code",
   "execution_count": null,
   "metadata": {
    "pycharm": {
     "name": "#%%\n"
    }
   },
   "outputs": [],
   "source": [
    "import subprocess\n",
    "\n",
    "\n",
    "def gridsynth(theta):\n",
    "    return subprocess.getoutput(f\"./gridsynth {theta} -e 10e-8\")"
   ]
  },
  {
   "cell_type": "code",
   "execution_count": null,
   "metadata": {
    "pycharm": {
     "name": "#%%\n"
    }
   },
   "outputs": [],
   "source": [
    "from math import pi\n",
    "\n",
    "\n",
    "def count_gates(qasm, gate_names):\n",
    "    qc = QuantumCircuit.from_qasm_str(qasm)\n",
    "    gates = list(qc)\n",
    "    count = 0\n",
    "    for gate in gates:\n",
    "        gate = gate[0]\n",
    "        if gate.name in gate_names:\n",
    "            count += 1\n",
    "    return count\n",
    "\n",
    "\n",
    "def approx(a, b):\n",
    "    return abs(a - b) < 10e-4\n",
    "\n",
    "\n",
    "def count_gates_synth(theta):\n",
    "    synth = gridsynth(theta)\n",
    "    return len(synth) - synth.count('W')\n",
    "\n",
    "\n",
    "def count_t_synth(theta):\n",
    "    synth = gridsynth(theta)\n",
    "    return synth.count('T')\n",
    "\n",
    "\n",
    "def count_rot_z_t(qasm):\n",
    "    qc = QuantumCircuit.from_qasm_str(qasm)\n",
    "    gates = list(qc)\n",
    "    count = 0\n",
    "    for gate in gates:\n",
    "        gate = gate[0]\n",
    "        if gate.name in ['rz', 'rx', 'u1']:\n",
    "            theta = gate.params[0]\n",
    "            if abs(theta % (pi / 4)) < 10e-5:\n",
    "                count += approx(pi / 4, abs(theta % (pi / 2)))\n",
    "            else:\n",
    "                count += count_t_synth(theta)\n",
    "\n",
    "    return count\n",
    "\n",
    "\n",
    "def count_t_gates(qasm):\n",
    "    return count_gates(qasm, ['t', 'tdag']) + count_rot_z_t(qasm)\n",
    "\n",
    "\n",
    "def count_cnot_gates(qasm):\n",
    "    return count_gates(qasm, ['cx', 'cz'])\n",
    "\n",
    "\n",
    "def count_total_gates(qasm):\n",
    "    qc = QuantumCircuit.from_qasm_str(qasm)\n",
    "    gates = list(qc)\n",
    "    count = 0\n",
    "    for gate in gates:\n",
    "        gate = gate[0]\n",
    "        if gate.name in ['rz', 'rx', 'u1']:\n",
    "            theta = gate.params[0]\n",
    "            if abs(theta % (pi / 4)) < 10e-5:\n",
    "                count += 1\n",
    "            else:\n",
    "                count += count_gates_synth(theta)\n",
    "        else:\n",
    "            count += 1\n",
    "    return count\n"
   ]
  },
  {
   "cell_type": "code",
   "execution_count": null,
   "metadata": {
    "pycharm": {
     "name": "#%%\n"
    }
   },
   "outputs": [],
   "source": [
    "from qiskit.circuit.library import MCMT\n",
    "\n",
    "# Test\n",
    "testing = False\n",
    "if testing:\n",
    "    qc = QuantumCircuit(2)\n",
    "    qc.rz(0.132312, 0)\n",
    "    qc.t(0)\n",
    "    qc.h(1)\n",
    "    qc.cnot(0, 1)\n",
    "    qc.t(0)\n",
    "    qc.cnot(0, 1)\n",
    "    qc.h(0)\n",
    "    qc.t(0)\n",
    "    qc.t(1)\n",
    "    qc.s(1)\n",
    "    qc.cnot(1, 0)\n",
    "    qc.rx(pi / 4, 1)\n",
    "\n",
    "    print(\"Original\")\n",
    "    print(qc.draw())\n",
    "\n",
    "    qasm = qc.qasm()\n",
    "\n",
    "    for compiler_name in compilers:\n",
    "        print(compiler_name)\n",
    "        qasm_opt = compilers[compiler_name](qasm)\n",
    "        qc_opt = QuantumCircuit.from_qasm_str(qasm_opt)\n",
    "        print(qc_opt.draw())\n",
    "        print(count_t_gates(qasm_opt))\n"
   ]
  },
  {
   "cell_type": "code",
   "execution_count": null,
   "metadata": {
    "pycharm": {
     "name": "#%%\n"
    }
   },
   "outputs": [],
   "source": [
    "import time\n",
    "import pickle"
   ]
  },
  {
   "cell_type": "code",
   "execution_count": null,
   "metadata": {
    "pycharm": {
     "name": "#%%\n"
    }
   },
   "outputs": [],
   "source": [
    "# Create place to store files concerning optimiation and results\n",
    "results_path = \"results\"\n",
    "if not os.path.exists(results_path):\n",
    "    os.makedirs(results_path)"
   ]
  },
  {
   "cell_type": "code",
   "execution_count": null,
   "metadata": {
    "pycharm": {
     "name": "#%%\n"
    }
   },
   "outputs": [],
   "source": [
    "def generate_result(qasm, time_taken=0):\n",
    "    result = dict()\n",
    "    result['qasm'] = qasm\n",
    "    result['time'] = time_taken\n",
    "    if not qasm == \"\":\n",
    "        result['cnot_count'] = count_cnot_gates(qasm)\n",
    "        result['t_count'] = count_t_gates(qasm)\n",
    "        result['total_count'] = count_total_gates(qasm)\n",
    "    return result"
   ]
  },
  {
   "cell_type": "markdown",
   "metadata": {
    "collapsed": false,
    "pycharm": {
     "name": "#%% md\n"
    }
   },
   "source": [
    "### Benchmark each compiler on its own and cache results\n",
    "Will also generate baseline for non-optimized benchmarks"
   ]
  },
  {
   "cell_type": "code",
   "execution_count": null,
   "metadata": {
    "pycharm": {
     "name": "#%%\n"
    }
   },
   "outputs": [],
   "source": [
    "import signal\n",
    "\n",
    "class timeout:\n",
    "    def __init__(self, seconds=1, error_message='Timeout'):\n",
    "        self.seconds = seconds\n",
    "        self.error_message = error_message\n",
    "    def handle_timeout(self, signum, frame):\n",
    "        raise TimeoutError(self.error_message)\n",
    "    def __enter__(self):\n",
    "        signal.signal(signal.SIGALRM, self.handle_timeout)\n",
    "        signal.alarm(self.seconds)\n",
    "    def __exit__(self, type, value, traceback):\n",
    "        signal.alarm(0)"
   ]
  },
  {
   "cell_type": "code",
   "execution_count": null,
   "metadata": {
    "pycharm": {
     "name": "#%%\n"
    }
   },
   "outputs": [],
   "source": [
    "from qiskit.qasm import QasmError"
   ]
  },
  {
   "cell_type": "code",
   "execution_count": null,
   "metadata": {
    "pycharm": {
     "name": "#%%\n"
    }
   },
   "outputs": [],
   "source": [
    "enable_large_benchmarks = False"
   ]
  },
  {
   "cell_type": "code",
   "execution_count": null,
   "metadata": {
    "pycharm": {
     "name": "#%%\n"
    }
   },
   "outputs": [],
   "source": [
    "for benchmark_file in benchmark_files:\n",
    "    if str(benchmark_file) == \"temp_in.qasm\" or str(benchmark_file) == \"tmp.qasm\":  # Ignore compiler artifacts\n",
    "        continue\n",
    "    path_no_slash = str(benchmark_file).replace(\"/\", \"-\")\n",
    "    print(benchmark_file)\n",
    "    if (not enable_large_benchmarks) and os.path.getsize(benchmark_file) > 100 * 1000 : # 100 KB:\n",
    "        print(\"Benchmark too large, skipping\")\n",
    "        continue\n",
    "    try:\n",
    "        benchmark = QuantumCircuit.from_qasm_file(benchmark_file) \\\n",
    "                              .decompose().qasm()  # Remove custom gate declarations since tket and voqc don't play nicely with them\n",
    "    except QasmError as e:\n",
    "        print(e)\n",
    "        continue\n",
    "    assert not benchmark == \"\"\n",
    "    base_pkl_path = f\"{results_path}/result_base_{path_no_slash}.pkl\"\n",
    "    if not os.path.exists(base_pkl_path):\n",
    "        print(\"Establishing baseline\")\n",
    "        baseline = generate_result(benchmark)\n",
    "        pickle.dump(baseline, open(base_pkl_path, 'wb'))\n",
    "        print(\"Established baseline\")\n",
    "    else:\n",
    "        print(\"Baseline already exists, continuing...\")\n",
    "    for compiler_name in compilers:\n",
    "        print(f\"Using {compiler_name} to optimize {benchmark_file}\")\n",
    "        pkl_path = f\"{results_path}/result_{compiler_name}_{path_no_slash}.pkl\"\n",
    "        if os.path.exists(pkl_path):\n",
    "            print(\"Found cached results file, skipping computation\")\n",
    "            continue\n",
    "        try:\n",
    "            with timeout(60 * 15):\n",
    "                start = time.perf_counter()\n",
    "                opt_qasm = compilers[compiler_name](benchmark)\n",
    "                stop = time.perf_counter()\n",
    "                time_taken = stop - start\n",
    "                print(f\"Completed in {time_taken} sec\")\n",
    "        except TimeoutError:\n",
    "            print(\"Timed out after 15min\")\n",
    "            time_taken = -1\n",
    "            opt_qasm = \"\"\n",
    "        result = generate_result(opt_qasm, time_taken)\n",
    "        pickle.dump(result, open(pkl_path, 'wb'))\n"
   ]
  },
  {
   "cell_type": "markdown",
   "metadata": {
    "collapsed": false,
    "pycharm": {
     "name": "#%% md\n"
    }
   },
   "source": [
    "### Use cached results to benchmark compiler juxtaposition"
   ]
  },
  {
   "cell_type": "code",
   "execution_count": null,
   "metadata": {
    "pycharm": {
     "name": "#%%\n"
    }
   },
   "outputs": [],
   "source": [
    "# Benchmark individually\n",
    "for compiler_name_1 in compilers:\n",
    "    for compiler_name_2 in compilers:\n",
    "        key = compiler_name_1 + '%' + compiler_name_2\n",
    "        if compiler_name_1 == compiler_name_2:\n",
    "            continue\n",
    "        for benchmark_file in benchmark_files:\n",
    "            if str(benchmark_file) == \"temp_in.qasm\" or str(benchmark_file) == \"tmp.qasm\":  # Ignore compiler artifacts\n",
    "                continue\n",
    "            path_no_slash = str(benchmark_file).replace(\"/\", \"-\")\n",
    "            print(benchmark_file)\n",
    "            if (not enable_large_benchmarks) and os.path.getsize(benchmark_file) > 100 * 1000: # 100 KB:\n",
    "                print(\"Benchmark too large, skipping\")\n",
    "                continue\n",
    "            try:\n",
    "                benchmark = QuantumCircuit.from_qasm_file(benchmark_file) \\\n",
    "                                      .decompose().qasm()  # Remove custom gate declarations since tket and voqc don't play nicely with them\n",
    "            except QasmError as e:\n",
    "                print(e)\n",
    "                continue\n",
    "            assert not benchmark == \"\"\n",
    "            print(f\"Using {compiler_name_2} to optimize {benchmark_file} previously optimized by {compiler_name_1}\")\n",
    "            pkl_path = f\"{results_path}/result_{compiler_name_1}_{compiler_name_2}_{path_no_slash}.pkl\"\n",
    "            if os.path.exists(pkl_path):\n",
    "                print(\"Found cached results file, skipping computation\")\n",
    "                continue\n",
    "            prior_result_path = f\"{results_path}/result_{compiler_name_1}_{path_no_slash}.pkl\"\n",
    "            if not os.path.exists(prior_result_path):\n",
    "                print(\"Missing prior file, skipping\")\n",
    "                continue\n",
    "            prior_result = pickle.load(open(prior_result_path, 'rb'))\n",
    "            if prior_result['time'] == -1:\n",
    "                print(\"Prior benchmark did not complete successfully, skipping\")\n",
    "            opt_benchmark = prior_result['qasm']\n",
    "            assert not opt_benchmark == \"\"\n",
    "            print(f\"{compiler_name_1} + {compiler_name_2}\")\n",
    "            try:\n",
    "                start = time.perf_counter()\n",
    "                opt_qasm = compilers[compiler_name_2](opt_benchmark)\n",
    "                stop = time.perf_counter()\n",
    "                time_taken = stop - start\n",
    "                print(f\"Completed in {time_taken} sec\")\n",
    "            except Exception as e:\n",
    "                print(e)\n",
    "                opt_qasm = ''\n",
    "                time_taken = -1\n",
    "            result = generate_result(opt_qasm, time_taken)\n",
    "            pickle.dump(result, open(pkl_path, 'wb'))"
   ]
  },
  {
   "cell_type": "code",
   "execution_count": null,
   "metadata": {
    "pycharm": {
     "name": "#%%\n"
    }
   },
   "outputs": [],
   "source": []
  }
 ],
 "metadata": {
  "kernelspec": {
   "display_name": "Python 3 (ipykernel)",
   "language": "python",
   "name": "python3"
  },
  "language_info": {
   "codemirror_mode": {
    "name": "ipython",
    "version": 3
   },
   "file_extension": ".py",
   "mimetype": "text/x-python",
   "name": "python",
   "nbconvert_exporter": "python",
   "pygments_lexer": "ipython3",
   "version": "3.9.10"
  }
 },
 "nbformat": 4,
 "nbformat_minor": 1
}