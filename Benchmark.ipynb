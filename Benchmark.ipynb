{
 "cells": [
  {
   "cell_type": "markdown",
   "source": [
    "# Benchmarking different quantum compilers\n"
   ],
   "metadata": {
    "collapsed": false
   }
  },
  {
   "cell_type": "code",
   "execution_count": 1,
   "outputs": [],
   "source": [],
   "metadata": {
    "collapsed": false,
    "pycharm": {
     "name": "#%%\n"
    }
   }
  },
  {
   "cell_type": "markdown",
   "source": [
    "## Load benchmarks"
   ],
   "metadata": {
    "collapsed": false
   }
  },
  {
   "cell_type": "code",
   "execution_count": 36,
   "outputs": [],
   "source": [
    "from pathlib import Path\n",
    "\n",
    "benchmark_files = list(Path(\".\").rglob(\"*.qasm\"))"
   ],
   "metadata": {
    "collapsed": false,
    "pycharm": {
     "name": "#%%\n"
    }
   }
  },
  {
   "cell_type": "markdown",
   "source": [
    "## Prepare compilers"
   ],
   "metadata": {
    "collapsed": false
   }
  },
  {
   "cell_type": "code",
   "execution_count": 4,
   "outputs": [],
   "source": [
    "compilers = dict()"
   ],
   "metadata": {
    "collapsed": false,
    "pycharm": {
     "name": "#%%\n"
    }
   }
  },
  {
   "cell_type": "markdown",
   "source": [
    "## QisKit"
   ],
   "metadata": {
    "collapsed": false
   }
  },
  {
   "cell_type": "code",
   "execution_count": 5,
   "outputs": [],
   "source": [
    "from qiskit.compiler import transpile"
   ],
   "metadata": {
    "collapsed": false,
    "pycharm": {
     "name": "#%%\n"
    }
   }
  },
  {
   "cell_type": "code",
   "execution_count": 76,
   "outputs": [],
   "source": [
    "def optimize_qiskit(qasm):\n",
    "    qc = QuantumCircuit.from_qasm_str(qasm)\n",
    "    opt_qc = transpile(qc, optimization_level=3, approximation_degree=1.0,\n",
    "                       basis_gates=['rz', 'rx', 'h', 't', 'tdag', 's', 'cx'])\n",
    "    return opt_qc.qasm()\n",
    "\n",
    "\n",
    "compilers['qiskit'] = optimize_qiskit"
   ],
   "metadata": {
    "collapsed": false,
    "pycharm": {
     "name": "#%%\n"
    }
   }
  },
  {
   "cell_type": "markdown",
   "source": [
    "## PyZX"
   ],
   "metadata": {
    "collapsed": false
   }
  },
  {
   "cell_type": "code",
   "execution_count": 7,
   "outputs": [],
   "source": [
    "import pyzx as zx"
   ],
   "metadata": {
    "collapsed": false,
    "pycharm": {
     "name": "#%%\n"
    }
   }
  },
  {
   "cell_type": "code",
   "execution_count": 14,
   "outputs": [],
   "source": [
    "def optimize_pyzx(qasm):\n",
    "    c = zx.Circuit.from_qasm(qasm)\n",
    "    zx.draw(c)\n",
    "    c = c.to_graph()\n",
    "    zx.simplify.full_reduce(c)\n",
    "    c.normalize()\n",
    "    c_opt = zx.extract_circuit(c.copy(), quiet=True, optimize_cnots=3).to_basic_gates()\n",
    "    return c_opt.to_qasm()\n",
    "\n",
    "\n",
    "compilers['pyzx'] = optimize_pyzx"
   ],
   "metadata": {
    "collapsed": false,
    "pycharm": {
     "name": "#%%\n"
    }
   }
  },
  {
   "cell_type": "markdown",
   "source": [
    "## VOQC"
   ],
   "metadata": {
    "collapsed": false
   }
  },
  {
   "cell_type": "markdown",
   "source": [
    "To install voqc run\n",
    "```shell\n",
    "git submodule update --remote\n",
    "cd pyvoqc\n",
    "opam pin voqc https://github.com/inQWIRE/mlvoqc.git#mapping\n",
    "./install.sh\n",
    "```\n",
    "Then copy pyvoqc/lib to your site packages pyvoqc folder"
   ],
   "metadata": {
    "collapsed": false
   }
  },
  {
   "cell_type": "code",
   "execution_count": 9,
   "outputs": [],
   "source": [
    "from qiskit import QuantumCircuit\n",
    "from pyvoqc.qiskit.voqc_pass import voqc_pass_manager"
   ],
   "metadata": {
    "collapsed": false,
    "pycharm": {
     "name": "#%%\n"
    }
   }
  },
  {
   "cell_type": "code",
   "execution_count": 10,
   "outputs": [],
   "source": [
    "def optimize_voqc(qasm):\n",
    "    qc = QuantumCircuit.from_qasm_str(qasm)\n",
    "    vpm = voqc_pass_manager(post_opts=[\"optimize\"])\n",
    "    qc_opt = vpm.run(qc)\n",
    "    return qc_opt.qasm()\n",
    "\n",
    "\n",
    "compilers['voqc'] = optimize_voqc"
   ],
   "metadata": {
    "collapsed": false,
    "pycharm": {
     "name": "#%%\n"
    }
   }
  },
  {
   "cell_type": "markdown",
   "source": [],
   "metadata": {
    "collapsed": false
   }
  },
  {
   "cell_type": "markdown",
   "source": [
    "## $\\mid$tket$\\rangle$"
   ],
   "metadata": {
    "collapsed": false
   }
  },
  {
   "cell_type": "code",
   "execution_count": 95,
   "outputs": [],
   "source": [
    "from pytket.qasm import circuit_from_qasm_str, circuit_to_qasm_str\n",
    "from pytket.passes import SequencePass, RemoveRedundancies, FullPeepholeOptimise, auto_rebase_pass\n",
    "from pytket.predicates import CompilationUnit\n",
    "from pytket import OpType"
   ],
   "metadata": {
    "collapsed": false,
    "pycharm": {
     "name": "#%%\n"
    }
   }
  },
  {
   "cell_type": "code",
   "execution_count": 98,
   "outputs": [],
   "source": [
    "def optimize_tket(qasm):\n",
    "    qc = circuit_from_qasm_str(qasm)\n",
    "    gates = {OpType.Rz, OpType.Rx, OpType.H, OpType.T, OpType.Tdg, OpType.S, OpType.CX}\n",
    "    rebase = auto_rebase_pass(gates)\n",
    "    seqpass = SequencePass(\n",
    "        [\n",
    "            FullPeepholeOptimise(),\n",
    "            RemoveRedundancies(),\n",
    "            rebase,\n",
    "        ])\n",
    "    cu = CompilationUnit(qc)\n",
    "    seqpass.apply(cu)\n",
    "    qc_opt = cu.circuit\n",
    "    return circuit_to_qasm_str(qc_opt)\n",
    "\n",
    "\n",
    "compilers['tket'] = optimize_tket"
   ],
   "metadata": {
    "collapsed": false,
    "pycharm": {
     "name": "#%%\n"
    }
   }
  },
  {
   "cell_type": "markdown",
   "source": [
    "## Staq"
   ],
   "metadata": {
    "collapsed": false
   }
  },
  {
   "cell_type": "code",
   "execution_count": 58,
   "outputs": [],
   "source": [
    "import pystaq\n"
   ],
   "metadata": {
    "collapsed": false,
    "pycharm": {
     "name": "#%%\n"
    }
   }
  },
  {
   "cell_type": "code",
   "execution_count": 64,
   "outputs": [],
   "source": [
    "def optimize_staq(qasm):\n",
    "    qc = pystaq.parse_str(qasm)\n",
    "    pystaq.simplify(qc)\n",
    "    pystaq.rotation_fold(qc)\n",
    "    pystaq.simplify(qc)\n",
    "    pystaq.cnot_resynth(qc)\n",
    "    pystaq.simplify(qc)\n",
    "    return str(qc)\n",
    "\n",
    "\n",
    "compilers['staq'] = optimize_staq\n"
   ],
   "metadata": {
    "collapsed": false,
    "pycharm": {
     "name": "#%%\n"
    }
   }
  },
  {
   "cell_type": "markdown",
   "source": [
    "# Run Benchmarks"
   ],
   "metadata": {
    "collapsed": false
   }
  },
  {
   "cell_type": "code",
   "execution_count": 99,
   "outputs": [
    {
     "name": "stdout",
     "output_type": "stream",
     "text": [
      "Original\n",
      "     ┌─────────────┐┌───┐     ┌───┐     ┌───┐┌───┐┌───┐\n",
      "q_0: ┤ Rz(0.13231) ├┤ T ├──■──┤ T ├──■──┤ H ├┤ T ├┤ X ├\n",
      "     └────┬───┬────┘└───┘┌─┴─┐└───┘┌─┴─┐├───┤├───┤└─┬─┘\n",
      "q_1: ─────┤ H ├──────────┤ X ├─────┤ X ├┤ T ├┤ S ├──■──\n",
      "          └───┘          └───┘     └───┘└───┘└───┘     \n",
      "qiskit\n",
      "     ┌─────────────┐┌──────────┐┌──────────┐     ┌─────────┐┌──────────┐»\n",
      "q_0: ┤ Rz(-1.4385) ├┤ Rx(3π/4) ├┤ Rz(-π/2) ├──■──┤ Rx(π/2) ├┤ Rz(-π/2) ├»\n",
      "     ├─────────────┤└──────────┘└──────────┘┌─┴─┐├─────────┤├─────────┬┘»\n",
      "q_1: ┤ Rx(-3.0747) ├────────────────────────┤ X ├┤ Rz(π/2) ├┤ Rx(π/2) ├─»\n",
      "     └─────────────┘                        └───┘└─────────┘└─────────┘ »\n",
      "«                    \n",
      "«q_0: ───────────────\n",
      "«     ┌─────────────┐\n",
      "«q_1: ┤ Rz(-2.4231) ├\n",
      "«     └─────────────┘\n",
      "pyzx\n"
     ]
    },
    {
     "data": {
      "text/plain": "<IPython.core.display.HTML object>",
      "text/html": "<div style=\"overflow:auto\" id=\"graph-output-bJ2hGxGm\"></div>\n<script type=\"text/javascript\">\nrequire.config({baseUrl: \"venv/lib/python3.9/site-packages/pyzx/js\",paths: {d3: \"d3.v5.min\"} });\n// PyZX - Python library for quantum circuit rewriting \n//        and optimisation using the ZX-calculus\n// Copyright (C) 2018 - Aleks Kissinger and John van de Wetering\n\n// Licensed under the Apache License, Version 2.0 (the \"License\");\n// you may not use this file except in compliance with the License.\n// You may obtain a copy of the License at\n\n//    http://www.apache.org/licenses/LICENSE-2.0\n\n// Unless required by applicable law or agreed to in writing, software\n// distributed under the License is distributed on an \"AS IS\" BASIS,\n// WITHOUT WARRANTIES OR CONDITIONS OF ANY KIND, either express or implied.\n// See the License for the specific language governing permissions and\n// limitations under the License.\n\nrequire.undef('zx_viewer');\n\ndefine('zx_viewer', ['d3'], function(d3) {\n    \n    // styling functions\n    function nodeColor(t) {\n        if (t == 0) return \"black\";\n        else if (t == 1) return \"#ccffcc\";\n        else if (t == 2) return \"#ff8888\";\n        else if (t == 3) return \"yellow\";\n    }\n\n    function edgeColor(t) {\n        if (t == 1) return \"black\";\n        else if (t == 2) return \"#08f\";\n    }\n\n    function nodeStyle(selected) {\n        return selected ? \"stroke-width: 2px; stroke: #00f\" : \"stroke-width: 1.5px\";\n    }\n\n    var symbolGround = {\n        draw: function(context, size){\n            let s = size/2;\n\n            context.moveTo(0,-s);\n            context.lineTo(0,0);\n\n            context.moveTo(-s,0);\n            context.lineTo(s,0);\n\n            context.moveTo(-2*s/3,s/3);\n            context.lineTo(2*s/3,s/3);\n\n            context.moveTo(-s/3,2*s/3);\n            context.lineTo(s/3,2*s/3);\n        }\n    }\n\n    return {\n    showGraph: function(tag, graph, width, height, scale, node_size, auto_hbox, show_labels, scalar_str) {\n        var ntab = {};\n\n        var groundOffset = 2.5 * node_size;\n\n        graph.nodes.forEach(function(d) {\n            ntab[d.name] = d;\n            d.selected = false;\n            d.previouslySelected = false;\n            d.nhd = [];\n        });\n\n        var spiders_and_boundaries = graph.nodes.filter(function(d) {\n            return d.t != 3;\n        });\n\n        graph.links.forEach(function(d) {\n            var s = ntab[d.source];\n            var t = ntab[d.target];\n            d.source = s;\n            d.target = t;\n            s.nhd.push(t);\n            t.nhd.push(s);\n        });\n\n        var shiftKey;\n\n        // SETUP SVG ITEMS\n\n        var svg = d3.select(tag)\n            //.attr(\"tabindex\", 1)\n            .on(\"keydown.brush\", function() {shiftKey = d3.event.shiftKey || d3.event.metaKey;})\n            .on(\"keyup.brush\", function() {shiftKey = d3.event.shiftKey || d3.event.metaKey;})\n            //.each(function() { this.focus(); })\n            .append(\"svg\")\n            .attr(\"style\", \"max-width: none; max-height: none\")\n            .attr(\"width\", width)\n            .attr(\"height\", height);\n\n        var link = svg.append(\"g\")\n            .attr(\"class\", \"link\")\n            .selectAll(\"line\")\n            .data(graph.links)\n            .enter().append(\"line\")\n            .attr(\"stroke\", function(d) { return edgeColor(d.t); })\n            .attr(\"style\", \"stroke-width: 1.5px\");\n\n        var brush = svg.append(\"g\")\n            .attr(\"class\", \"brush\");\n\n        var node = svg.append(\"g\")\n            .attr(\"class\", \"node\")\n            .selectAll(\"g\")\n            .data(graph.nodes)\n            .enter().append(\"g\")\n            .attr(\"transform\", function(d) {\n                return \"translate(\" + d.x + \",\" + d.y +\")\";\n            });\n\n        // Draw a ground symbol connected to the node.\n        node.filter(function(d) { return d.ground; })\n            .append(\"path\")\n            .attr(\"stroke\", \"black\")\n            .attr(\"style\", \"stroke-width: 1.5px\")\n            .attr(\"fill\", \"none\")\n            .attr(\"d\", \"M 0 0 L 0 \"+(groundOffset))\n            .attr(\"class\", \"selectable\");\n        node.filter(function(d) { return d.ground; })\n            .append(\"path\")\n            .attr(\"stroke\", \"black\")\n            .attr(\"style\", \"stroke-width: 1.5px\")\n            .attr(\"fill\", \"none\")\n            .attr(\"d\", d3.symbol().type(symbolGround).size(node_size*1.5))\n            .attr(\"transform\", \"translate(0,\"+groundOffset+\")\")\n            .attr(\"class\", \"selectable\");\n\n        node.filter(function(d) { return d.t != 3; })\n            .append(\"circle\")\n            .attr(\"r\", function(d) {\n               if (d.t == 0) return 0.5 * node_size;\n               else return node_size;\n            })\n            .attr(\"fill\", function(d) { return nodeColor(d.t); })\n            .attr(\"stroke\", \"black\")\n            .attr(\"class\", \"selectable\");\n\n        var hbox = node.filter(function(d) { return d.t == 3; });\n\n        hbox.append(\"rect\")\n            .attr(\"x\", -0.75 * node_size).attr(\"y\", -0.75 * node_size)\n            .attr(\"width\", node_size * 1.5).attr(\"height\", node_size * 1.5)\n            .attr(\"fill\", function(d) { return nodeColor(d.t); })\n            .attr(\"stroke\", \"black\")\n            .attr(\"class\", \"selectable\");\n\n        node.filter(function(d) { return d.phase != ''; })\n            .append(\"text\")\n            .attr(\"y\", 0.7 * node_size + 14)\n            .text(function (d) { return d.phase })\n            .attr(\"text-anchor\", \"middle\")\n            .attr(\"font-size\", \"12px\")\n            .attr(\"font-family\", \"monospace\")\n            .attr(\"fill\", \"#00d\")\n            .attr('style', 'pointer-events: none; user-select: none;');\n\n        if (show_labels) {\n            node.append(\"text\")\n                .attr(\"y\", -0.7 * node_size - 8)\n                .text(function (d) { return d.name; })\n                .attr(\"text-anchor\", \"middle\")\n                .attr(\"font-size\", \"10px\")\n                .attr(\"font-family\", \"monospace\")\n                .attr(\"fill\", \"#999\")\n                .attr('style', 'pointer-events: none; user-select: none;');\n        }\n\n        // Display the chosen data fields over the node.\n        node.filter(d => d.vdata.length > 0)\n            .append(\"text\")\n            .attr(\"y\", d => -0.7 * node_size - 14 - 10 * d.vdata.length)\n            .attr(\"text-anchor\", \"middle\")\n            .attr(\"font-size\", \"8px\")\n            .attr(\"font-family\", \"monospace\")\n            .attr(\"fill\", \"#c66\")\n            .attr('style', 'pointer-events: none; user-select: none;')\n            .selectAll(\"tspan\")\n              .data(d => d.vdata)\n              .enter()\n              .append(\"tspan\")\n              .attr(\"x\", \"0\")\n              .attr(\"dy\", \"1.2em\")\n              .text(x => x.join(\": \"));\n\n        if (scalar_str != \"\") {\n            svg.append(\"text\")\n                .text(scalar_str)\n                .attr(\"x\", 60).attr(\"y\", 40)\n                .attr(\"text-anchor\", \"middle\")\n        }\n\n        function update_hboxes() {\n            if (auto_hbox) {\n                var pos = {};\n                hbox.attr(\"transform\", function(d) {\n                    // calculate barycenter of non-hbox neighbours, then nudge a bit\n                    // to the NE.\n                    var x=0,y=0,sz=0;\n                    for (var i = 0; i < d.nhd.length; ++i) {\n                        if (d.nhd[i].t != 3) {\n                            sz++;\n                            x += d.nhd[i].x;\n                            y += d.nhd[i].y;\n                        }\n                    }\n\n                    offset = 0.25 * scale;\n\n                    if (sz != 0) {\n                        x = (x/sz) + offset;\n                        y = (y/sz) - offset;\n\n                        while (pos[[x,y]]) {\n                            x += offset;\n                        }\n                        d.x = x;\n                        d.y = y;\n                        pos[[x,y]] = true;\n                    }\n\n                    return \"translate(\"+d.x+\",\"+d.y+\")\";\n                });\n            }\n        }\n\n        update_hboxes();\n\n        link.attr(\"x1\", function(d) { return d.source.x; })\n            .attr(\"y1\", function(d) { return d.source.y; })\n            .attr(\"x2\", function(d) { return d.target.x; })\n            .attr(\"y2\", function(d) { return d.target.y; });\n\n        // EVENTS FOR DRAGGING AND SELECTION\n\n        node.on(\"mousedown\", function(d) {\n                if (shiftKey) {\n                    d3.select(this).selectAll(\".selectable\").attr(\"style\", nodeStyle(d.selected = !d.selected));\n                    d3.event.stopImmediatePropagation();\n                } else if (!d.selected) {\n                    node.selectAll(\".selectable\").attr(\"style\", function(p) { return nodeStyle(p.selected = d === p); });\n                }\n            })\n            .call(d3.drag().on(\"drag\", function(d) {\n                var dx = d3.event.dx;\n                var dy = d3.event.dy;\n                // node.filter(function(d) { return d.selected; })\n                //     .attr(\"cx\", function(d) { return d.x += dx; })\n                //     .attr(\"cy\", function(d) { return d.y += dy; });\n                node.filter(function(d) { return d.selected; })\n                    .attr(\"transform\", function(d) {\n                        d.x += dx;\n                        d.y += dy;\n                        return \"translate(\" + d.x + \",\" + d.y +\")\";\n                    });\n\n                update_hboxes();\n\n                link.filter(function(d) { return d.source.selected ||\n                                            (auto_hbox && d.source.t == 3); })\n                    .attr(\"x1\", function(d) { return d.source.x; })\n                    .attr(\"y1\", function(d) { return d.source.y; });\n\n                link.filter(function(d) { return d.target.selected ||\n                                            (auto_hbox && d.target.t == 3); })\n                    .attr(\"x2\", function(d) { return d.target.x; })\n                    .attr(\"y2\", function(d) { return d.target.y; });\n\n                // text.filter(function(d) { return d.selected; })\n                //     .attr(\"x\", function(d) { return d.x; })\n                //     .attr(\"y\", function(d) { return d.y + 0.7 * node_size + 14; });\n            }));\n\n        brush.call(d3.brush().keyModifiers(false)\n            .extent([[0, 0], [width, height]])\n            .on(\"start\", function() {\n                if (d3.event.sourceEvent.type !== \"end\") {\n                    node.selectAll(\".selectable\").attr(\"style\", function(d) {\n                        return nodeStyle(\n                            d.selected = d.previouslySelected = shiftKey &&\n                            d.selected);\n                    });\n                }\n            })\n            .on(\"brush\", function() {\n                if (d3.event.sourceEvent.type !== \"end\") {\n                    var selection = d3.event.selection;\n                    node.selectAll(\".selectable\").attr(\"style\", function(d) {\n                        return nodeStyle(d.selected = d.previouslySelected ^\n                            (selection != null\n                            && selection[0][0] <= d.x && d.x < selection[1][0]\n                            && selection[0][1] <= d.y && d.y < selection[1][1]));\n                    });\n                }\n            })\n            .on(\"end\", function() {\n                if (d3.event.selection != null) {\n                    d3.select(this).call(d3.event.target.move, null);\n                }\n            }));\n    }};\n});\n\n</script>\n<script type=\"text/javascript\">\nrequire(['zx_viewer'], function(zx_viewer) {\n    zx_viewer.showGraph('#graph-output-bJ2hGxGm',\n    JSON.parse('{\"nodes\": [{\"name\": \"0\", \"x\": 50, \"y\": 100, \"t\": 0, \"phase\": \"\", \"ground\": false, \"vdata\": []}, {\"name\": \"1\", \"x\": 50, \"y\": 150, \"t\": 0, \"phase\": \"\", \"ground\": false, \"vdata\": []}, {\"name\": \"2\", \"x\": 100, \"y\": 100, \"t\": 1, \"phase\": \"~4\\u03c0/95\", \"ground\": false, \"vdata\": []}, {\"name\": \"3\", \"x\": 150, \"y\": 100, \"t\": 1, \"phase\": \"\\u03c0/4\", \"ground\": false, \"vdata\": []}, {\"name\": \"4\", \"x\": 100, \"y\": 150, \"t\": 1, \"phase\": \"\", \"ground\": false, \"vdata\": []}, {\"name\": \"5\", \"x\": 200, \"y\": 150, \"t\": 2, \"phase\": \"\", \"ground\": false, \"vdata\": []}, {\"name\": \"6\", \"x\": 200, \"y\": 100, \"t\": 1, \"phase\": \"\", \"ground\": false, \"vdata\": []}, {\"name\": \"7\", \"x\": 250, \"y\": 100, \"t\": 1, \"phase\": \"\\u03c0/4\", \"ground\": false, \"vdata\": []}, {\"name\": \"8\", \"x\": 300, \"y\": 150, \"t\": 2, \"phase\": \"\", \"ground\": false, \"vdata\": []}, {\"name\": \"9\", \"x\": 300, \"y\": 100, \"t\": 1, \"phase\": \"\", \"ground\": false, \"vdata\": []}, {\"name\": \"10\", \"x\": 350, \"y\": 100, \"t\": 1, \"phase\": \"\", \"ground\": false, \"vdata\": []}, {\"name\": \"11\", \"x\": 400, \"y\": 100, \"t\": 1, \"phase\": \"\\u03c0/4\", \"ground\": false, \"vdata\": []}, {\"name\": \"12\", \"x\": 350, \"y\": 150, \"t\": 1, \"phase\": \"\\u03c0/4\", \"ground\": false, \"vdata\": []}, {\"name\": \"13\", \"x\": 400, \"y\": 150, \"t\": 1, \"phase\": \"\\u03c0/2\", \"ground\": false, \"vdata\": []}, {\"name\": \"14\", \"x\": 450, \"y\": 100, \"t\": 2, \"phase\": \"\", \"ground\": false, \"vdata\": []}, {\"name\": \"15\", \"x\": 450, \"y\": 150, \"t\": 1, \"phase\": \"\", \"ground\": false, \"vdata\": []}, {\"name\": \"16\", \"x\": 500, \"y\": 100, \"t\": 0, \"phase\": \"\", \"ground\": false, \"vdata\": []}, {\"name\": \"17\", \"x\": 500, \"y\": 150, \"t\": 0, \"phase\": \"\", \"ground\": false, \"vdata\": []}], \"links\": [{\"source\": \"0\", \"target\": \"2\", \"t\": 1}, {\"source\": \"1\", \"target\": \"4\", \"t\": 2}, {\"source\": \"2\", \"target\": \"3\", \"t\": 1}, {\"source\": \"3\", \"target\": \"6\", \"t\": 1}, {\"source\": \"4\", \"target\": \"5\", \"t\": 1}, {\"source\": \"5\", \"target\": \"6\", \"t\": 1}, {\"source\": \"5\", \"target\": \"8\", \"t\": 1}, {\"source\": \"6\", \"target\": \"7\", \"t\": 1}, {\"source\": \"7\", \"target\": \"9\", \"t\": 1}, {\"source\": \"8\", \"target\": \"9\", \"t\": 1}, {\"source\": \"8\", \"target\": \"12\", \"t\": 1}, {\"source\": \"9\", \"target\": \"10\", \"t\": 2}, {\"source\": \"10\", \"target\": \"11\", \"t\": 1}, {\"source\": \"11\", \"target\": \"14\", \"t\": 1}, {\"source\": \"12\", \"target\": \"13\", \"t\": 1}, {\"source\": \"13\", \"target\": \"15\", \"t\": 1}, {\"source\": \"14\", \"target\": \"15\", \"t\": 1}, {\"source\": \"14\", \"target\": \"16\", \"t\": 1}, {\"source\": \"15\", \"target\": \"17\", \"t\": 1}]}'), 550, 200, 50, 10.0, false, false, '');\n});\n</script>"
     },
     "metadata": {},
     "output_type": "display_data"
    },
    {
     "name": "stdout",
     "output_type": "stream",
     "text": [
      "     ┌────────────┐┌───┐┌─────────┐┌───┐      ┌───┐              \n",
      "q_0: ┤ Rz(1.7031) ├┤ H ├┤ Rz(π/4) ├┤ H ├─■────┤ H ├──────────────\n",
      "     └───┬───┬────┘└───┘└─────────┘└───┘ │ ┌──┴───┴───┐┌───┐┌───┐\n",
      "q_1: ────┤ H ├───────────────────────────■─┤ Rz(3π/4) ├┤ H ├┤ H ├\n",
      "         └───┘                             └──────────┘└───┘└───┘\n",
      "voqc\n",
      "     ┌────────────┐   ┌───┐    ┌───┐┌───┐\n",
      "q_0: ┤ Rz(1.7031) ├───┤ H ├────┤ T ├┤ X ├\n",
      "     └───┬───┬────┘┌──┴───┴───┐└───┘└─┬─┘\n",
      "q_1: ────┤ H ├─────┤ Rz(3π/4) ├───────■──\n",
      "         └───┘     └──────────┘          \n",
      "tket\n",
      "     ┌────────────┐┌─────────┐ ┌──────────┐┌───┐\n",
      "q_0: ┤ Rz(3.2739) ├┤ Rx(π/2) ├─┤ Rz(3π/4) ├┤ X ├\n",
      "     └┬──────────┬┘├─────────┴┐├──────────┤└─┬─┘\n",
      "q_1: ─┤ Rz(7π/2) ├─┤ Rx(7π/2) ├┤ Rz(9π/4) ├──■──\n",
      "      └──────────┘ └──────────┘└──────────┘     \n",
      "staq\n",
      "     ┌─────────────┐   ┌───┐    ┌───┐┌───┐┌───┐\n",
      "q_0: ┤ U1(0.13231) ├───┤ S ├────┤ H ├┤ T ├┤ X ├\n",
      "     └────┬───┬────┘┌──┴───┴───┐└───┘└───┘└─┬─┘\n",
      "q_1: ─────┤ H ├─────┤ U1(3π/4) ├────────────■──\n",
      "          └───┘     └──────────┘               \n"
     ]
    }
   ],
   "source": [
    "# Test\n",
    "\n",
    "qc = QuantumCircuit(2)\n",
    "qc.rz(0.132312, 0)\n",
    "qc.t(0)\n",
    "qc.h(1)\n",
    "qc.cnot(0, 1)\n",
    "qc.t(0)\n",
    "qc.cnot(0, 1)\n",
    "qc.h(0)\n",
    "qc.t(0)\n",
    "qc.t(1)\n",
    "qc.s(1)\n",
    "qc.cnot(1, 0)\n",
    "\n",
    "print(\"Original\")\n",
    "print(qc.draw())\n",
    "\n",
    "qasm = qc.qasm()\n",
    "\n",
    "for compiler_name in compilers:\n",
    "    print(compiler_name)\n",
    "    qasm_opt = compilers[compiler_name](qasm)\n",
    "    qc_opt = QuantumCircuit.from_qasm_str(qasm_opt)\n",
    "    print(qc_opt.draw())\n"
   ],
   "metadata": {
    "collapsed": false,
    "pycharm": {
     "name": "#%%\n"
    }
   }
  },
  {
   "cell_type": "code",
   "execution_count": 13,
   "outputs": [
    {
     "ename": "ImportError",
     "evalue": "cannot import name 'SolovayKitaevDecomposition' from 'qiskit.transpiler.passes' (/Users/adrianlehmann/Code/CMSC32900-project-quantum-compiler-benchmark/quantum-compiler-benchmark/venv/lib/python3.9/site-packages/qiskit/transpiler/passes/__init__.py)",
     "output_type": "error",
     "traceback": [
      "\u001B[0;31m---------------------------------------------------------------------------\u001B[0m",
      "\u001B[0;31mImportError\u001B[0m                               Traceback (most recent call last)",
      "Input \u001B[0;32mIn [13]\u001B[0m, in \u001B[0;36m<cell line: 2>\u001B[0;34m()\u001B[0m\n\u001B[1;32m      1\u001B[0m \u001B[38;5;28;01mfrom\u001B[39;00m \u001B[38;5;21;01mqiskit\u001B[39;00m\u001B[38;5;21;01m.\u001B[39;00m\u001B[38;5;21;01mcircuit\u001B[39;00m\u001B[38;5;21;01m.\u001B[39;00m\u001B[38;5;21;01mlibrary\u001B[39;00m \u001B[38;5;28;01mimport\u001B[39;00m TGate, SGate, HGate, ZGate, YGate, XGate, TdgGate\n\u001B[0;32m----> 2\u001B[0m \u001B[38;5;28;01mfrom\u001B[39;00m \u001B[38;5;21;01mqiskit\u001B[39;00m\u001B[38;5;21;01m.\u001B[39;00m\u001B[38;5;21;01mtranspiler\u001B[39;00m\u001B[38;5;21;01m.\u001B[39;00m\u001B[38;5;21;01mpasses\u001B[39;00m \u001B[38;5;28;01mimport\u001B[39;00m SolovayKitaevDecomposition\n\u001B[1;32m      4\u001B[0m \u001B[38;5;28;01mdef\u001B[39;00m \u001B[38;5;21mdecompose_circuit\u001B[39m(qasm):\n\u001B[1;32m      5\u001B[0m     qc \u001B[38;5;241m=\u001B[39m QuantumCircuit\u001B[38;5;241m.\u001B[39mfrom_qasm_str(qasm)\n",
      "\u001B[0;31mImportError\u001B[0m: cannot import name 'SolovayKitaevDecomposition' from 'qiskit.transpiler.passes' (/Users/adrianlehmann/Code/CMSC32900-project-quantum-compiler-benchmark/quantum-compiler-benchmark/venv/lib/python3.9/site-packages/qiskit/transpiler/passes/__init__.py)"
     ]
    }
   ],
   "source": [
    "def count_gates(qasm, gate_names):\n",
    "    qc = QuantumCircuit.from_qasm_str(qasm)\n",
    "    gates = list(qc)\n",
    "    count = 0\n",
    "    for gate in gates:\n",
    "        gate = gate[0]\n",
    "        if gate.name in gate_names:\n",
    "            count += 1\n",
    "    return count\n",
    "\n",
    "\n",
    "def count_rot_z(qasm, theta):\n",
    "    qc = QuantumCircuit.from_qasm_str(qasm)\n",
    "    gates = list(qc)\n",
    "    count = 0\n",
    "    for gate in gates:\n",
    "        gate = gate[0]\n",
    "        if gate.name == 'rz'\n",
    "\n",
    "\n",
    "def count_t_gates(qasm):\n",
    "    return count_gates(qasm, ['t', 'tdag'])\n",
    "\n",
    "\n",
    "def count_cnot_gates(qasm):\n",
    "    return count_gates(qasm, ['cx'])\n",
    "\n",
    "\n",
    "def count_total_gates(qasm):\n",
    "    qc = QuantumCircuit.from_qasm_str(qasm)\n",
    "    return len(list(qc))\n"
   ],
   "metadata": {
    "collapsed": false,
    "pycharm": {
     "name": "#%%\n"
    }
   }
  },
  {
   "cell_type": "code",
   "execution_count": 37,
   "outputs": [
    {
     "name": "stdout",
     "output_type": "stream",
     "text": [
      "Nam-benchmarks/Arithmetic_and_Toffoli/adder_8.qasm\n",
      "qiskit\n"
     ]
    },
    {
     "ename": "QasmError",
     "evalue": "\"Cannot find gate definition for 'ccz', line 16 file \"",
     "output_type": "error",
     "traceback": [
      "\u001B[0;31m---------------------------------------------------------------------------\u001B[0m",
      "\u001B[0;31mQasmError\u001B[0m                                 Traceback (most recent call last)",
      "Input \u001B[0;32mIn [37]\u001B[0m, in \u001B[0;36m<cell line: 16>\u001B[0;34m()\u001B[0m\n\u001B[1;32m     23\u001B[0m \u001B[38;5;28mprint\u001B[39m(compiler_name)\n\u001B[1;32m     24\u001B[0m start \u001B[38;5;241m=\u001B[39m time\u001B[38;5;241m.\u001B[39mperf_counter()\n\u001B[0;32m---> 25\u001B[0m opt_qasm \u001B[38;5;241m=\u001B[39m \u001B[43mcompilers\u001B[49m\u001B[43m[\u001B[49m\u001B[43mcompiler_name\u001B[49m\u001B[43m]\u001B[49m\u001B[43m(\u001B[49m\u001B[43mbenchmark\u001B[49m\u001B[43m)\u001B[49m\n\u001B[1;32m     26\u001B[0m stop \u001B[38;5;241m=\u001B[39m time\u001B[38;5;241m.\u001B[39mperf_counter()\n\u001B[1;32m     27\u001B[0m total_time[compiler_name] \u001B[38;5;241m+\u001B[39m\u001B[38;5;241m=\u001B[39m (stop\u001B[38;5;241m-\u001B[39mstart)\n",
      "Input \u001B[0;32mIn [6]\u001B[0m, in \u001B[0;36moptimize_qiskit\u001B[0;34m(qasm)\u001B[0m\n\u001B[1;32m      1\u001B[0m \u001B[38;5;28;01mdef\u001B[39;00m \u001B[38;5;21moptimize_qiskit\u001B[39m(qasm):\n\u001B[0;32m----> 2\u001B[0m     qc \u001B[38;5;241m=\u001B[39m \u001B[43mQuantumCircuit\u001B[49m\u001B[38;5;241;43m.\u001B[39;49m\u001B[43mfrom_qasm_str\u001B[49m\u001B[43m(\u001B[49m\u001B[43mqasm\u001B[49m\u001B[43m)\u001B[49m\n\u001B[1;32m      3\u001B[0m     opt_qc \u001B[38;5;241m=\u001B[39m transpile(qc, optimization_level\u001B[38;5;241m=\u001B[39m\u001B[38;5;241m3\u001B[39m)\n\u001B[1;32m      4\u001B[0m     \u001B[38;5;28;01mreturn\u001B[39;00m opt_qc\u001B[38;5;241m.\u001B[39mqasm()\n",
      "File \u001B[0;32m~/Code/CMSC32900-project-quantum-compiler-benchmark/quantum-compiler-benchmark/venv/lib/python3.9/site-packages/qiskit/circuit/quantumcircuit.py:2334\u001B[0m, in \u001B[0;36mQuantumCircuit.from_qasm_str\u001B[0;34m(qasm_str)\u001B[0m\n\u001B[1;32m   2326\u001B[0m \u001B[38;5;124;03m\"\"\"Take in a QASM string and generate a QuantumCircuit object.\u001B[39;00m\n\u001B[1;32m   2327\u001B[0m \n\u001B[1;32m   2328\u001B[0m \u001B[38;5;124;03mArgs:\u001B[39;00m\n\u001B[0;32m   (...)\u001B[0m\n\u001B[1;32m   2331\u001B[0m \u001B[38;5;124;03m  QuantumCircuit: The QuantumCircuit object for the input QASM\u001B[39;00m\n\u001B[1;32m   2332\u001B[0m \u001B[38;5;124;03m\"\"\"\u001B[39;00m\n\u001B[1;32m   2333\u001B[0m qasm \u001B[38;5;241m=\u001B[39m Qasm(data\u001B[38;5;241m=\u001B[39mqasm_str)\n\u001B[0;32m-> 2334\u001B[0m \u001B[38;5;28;01mreturn\u001B[39;00m \u001B[43m_circuit_from_qasm\u001B[49m\u001B[43m(\u001B[49m\u001B[43mqasm\u001B[49m\u001B[43m)\u001B[49m\n",
      "File \u001B[0;32m~/Code/CMSC32900-project-quantum-compiler-benchmark/quantum-compiler-benchmark/venv/lib/python3.9/site-packages/qiskit/circuit/quantumcircuit.py:4667\u001B[0m, in \u001B[0;36m_circuit_from_qasm\u001B[0;34m(qasm)\u001B[0m\n\u001B[1;32m   4664\u001B[0m \u001B[38;5;28;01mfrom\u001B[39;00m \u001B[38;5;21;01mqiskit\u001B[39;00m\u001B[38;5;21;01m.\u001B[39;00m\u001B[38;5;21;01mconverters\u001B[39;00m \u001B[38;5;28;01mimport\u001B[39;00m ast_to_dag\n\u001B[1;32m   4665\u001B[0m \u001B[38;5;28;01mfrom\u001B[39;00m \u001B[38;5;21;01mqiskit\u001B[39;00m\u001B[38;5;21;01m.\u001B[39;00m\u001B[38;5;21;01mconverters\u001B[39;00m \u001B[38;5;28;01mimport\u001B[39;00m dag_to_circuit\n\u001B[0;32m-> 4667\u001B[0m ast \u001B[38;5;241m=\u001B[39m \u001B[43mqasm\u001B[49m\u001B[38;5;241;43m.\u001B[39;49m\u001B[43mparse\u001B[49m\u001B[43m(\u001B[49m\u001B[43m)\u001B[49m\n\u001B[1;32m   4668\u001B[0m dag \u001B[38;5;241m=\u001B[39m ast_to_dag(ast)\n\u001B[1;32m   4669\u001B[0m \u001B[38;5;28;01mreturn\u001B[39;00m dag_to_circuit(dag)\n",
      "File \u001B[0;32m~/Code/CMSC32900-project-quantum-compiler-benchmark/quantum-compiler-benchmark/venv/lib/python3.9/site-packages/qiskit/qasm/qasm.py:53\u001B[0m, in \u001B[0;36mQasm.parse\u001B[0;34m(self)\u001B[0m\n\u001B[1;32m     51\u001B[0m \u001B[38;5;28;01mwith\u001B[39;00m QasmParser(\u001B[38;5;28mself\u001B[39m\u001B[38;5;241m.\u001B[39m_filename) \u001B[38;5;28;01mas\u001B[39;00m qasm_p:\n\u001B[1;32m     52\u001B[0m     qasm_p\u001B[38;5;241m.\u001B[39mparse_debug(\u001B[38;5;28;01mFalse\u001B[39;00m)\n\u001B[0;32m---> 53\u001B[0m     \u001B[38;5;28;01mreturn\u001B[39;00m \u001B[43mqasm_p\u001B[49m\u001B[38;5;241;43m.\u001B[39;49m\u001B[43mparse\u001B[49m\u001B[43m(\u001B[49m\u001B[38;5;28;43mself\u001B[39;49m\u001B[38;5;241;43m.\u001B[39;49m\u001B[43m_data\u001B[49m\u001B[43m)\u001B[49m\n",
      "File \u001B[0;32m~/Code/CMSC32900-project-quantum-compiler-benchmark/quantum-compiler-benchmark/venv/lib/python3.9/site-packages/qiskit/qasm/qasmparser.py:1137\u001B[0m, in \u001B[0;36mQasmParser.parse\u001B[0;34m(self, data)\u001B[0m\n\u001B[1;32m   1135\u001B[0m \u001B[38;5;28;01mdef\u001B[39;00m \u001B[38;5;21mparse\u001B[39m(\u001B[38;5;28mself\u001B[39m, data):\n\u001B[1;32m   1136\u001B[0m     \u001B[38;5;124;03m\"\"\"Parse some data.\"\"\"\u001B[39;00m\n\u001B[0;32m-> 1137\u001B[0m     \u001B[38;5;28;43mself\u001B[39;49m\u001B[38;5;241;43m.\u001B[39;49m\u001B[43mparser\u001B[49m\u001B[38;5;241;43m.\u001B[39;49m\u001B[43mparse\u001B[49m\u001B[43m(\u001B[49m\u001B[43mdata\u001B[49m\u001B[43m,\u001B[49m\u001B[43m \u001B[49m\u001B[43mlexer\u001B[49m\u001B[38;5;241;43m=\u001B[39;49m\u001B[38;5;28;43mself\u001B[39;49m\u001B[38;5;241;43m.\u001B[39;49m\u001B[43mlexer\u001B[49m\u001B[43m,\u001B[49m\u001B[43m \u001B[49m\u001B[43mdebug\u001B[49m\u001B[38;5;241;43m=\u001B[39;49m\u001B[38;5;28;43mself\u001B[39;49m\u001B[38;5;241;43m.\u001B[39;49m\u001B[43mparse_deb\u001B[49m\u001B[43m)\u001B[49m\n\u001B[1;32m   1138\u001B[0m     \u001B[38;5;28;01mif\u001B[39;00m \u001B[38;5;28mself\u001B[39m\u001B[38;5;241m.\u001B[39mqasm \u001B[38;5;129;01mis\u001B[39;00m \u001B[38;5;28;01mNone\u001B[39;00m:\n\u001B[1;32m   1139\u001B[0m         \u001B[38;5;28;01mraise\u001B[39;00m QasmError(\u001B[38;5;124m\"\u001B[39m\u001B[38;5;124mUncaught exception in parser; \u001B[39m\u001B[38;5;124m\"\u001B[39m \u001B[38;5;241m+\u001B[39m \u001B[38;5;124m\"\u001B[39m\u001B[38;5;124msee previous messages for details.\u001B[39m\u001B[38;5;124m\"\u001B[39m)\n",
      "File \u001B[0;32m~/Code/CMSC32900-project-quantum-compiler-benchmark/quantum-compiler-benchmark/venv/lib/python3.9/site-packages/ply/yacc.py:333\u001B[0m, in \u001B[0;36mLRParser.parse\u001B[0;34m(self, input, lexer, debug, tracking, tokenfunc)\u001B[0m\n\u001B[1;32m    331\u001B[0m     \u001B[38;5;28;01mreturn\u001B[39;00m \u001B[38;5;28mself\u001B[39m\u001B[38;5;241m.\u001B[39mparseopt(\u001B[38;5;28minput\u001B[39m, lexer, debug, tracking, tokenfunc)\n\u001B[1;32m    332\u001B[0m \u001B[38;5;28;01melse\u001B[39;00m:\n\u001B[0;32m--> 333\u001B[0m     \u001B[38;5;28;01mreturn\u001B[39;00m \u001B[38;5;28;43mself\u001B[39;49m\u001B[38;5;241;43m.\u001B[39;49m\u001B[43mparseopt_notrack\u001B[49m\u001B[43m(\u001B[49m\u001B[38;5;28;43minput\u001B[39;49m\u001B[43m,\u001B[49m\u001B[43m \u001B[49m\u001B[43mlexer\u001B[49m\u001B[43m,\u001B[49m\u001B[43m \u001B[49m\u001B[43mdebug\u001B[49m\u001B[43m,\u001B[49m\u001B[43m \u001B[49m\u001B[43mtracking\u001B[49m\u001B[43m,\u001B[49m\u001B[43m \u001B[49m\u001B[43mtokenfunc\u001B[49m\u001B[43m)\u001B[49m\n",
      "File \u001B[0;32m~/Code/CMSC32900-project-quantum-compiler-benchmark/quantum-compiler-benchmark/venv/lib/python3.9/site-packages/ply/yacc.py:1120\u001B[0m, in \u001B[0;36mLRParser.parseopt_notrack\u001B[0;34m(self, input, lexer, debug, tracking, tokenfunc)\u001B[0m\n\u001B[1;32m   1118\u001B[0m \u001B[38;5;28;01mdel\u001B[39;00m symstack[\u001B[38;5;241m-\u001B[39mplen:]\n\u001B[1;32m   1119\u001B[0m \u001B[38;5;28mself\u001B[39m\u001B[38;5;241m.\u001B[39mstate \u001B[38;5;241m=\u001B[39m state\n\u001B[0;32m-> 1120\u001B[0m \u001B[43mp\u001B[49m\u001B[38;5;241;43m.\u001B[39;49m\u001B[43mcallable\u001B[49m\u001B[43m(\u001B[49m\u001B[43mpslice\u001B[49m\u001B[43m)\u001B[49m\n\u001B[1;32m   1121\u001B[0m \u001B[38;5;28;01mdel\u001B[39;00m statestack[\u001B[38;5;241m-\u001B[39mplen:]\n\u001B[1;32m   1122\u001B[0m symstack\u001B[38;5;241m.\u001B[39mappend(sym)\n",
      "File \u001B[0;32m~/Code/CMSC32900-project-quantum-compiler-benchmark/quantum-compiler-benchmark/venv/lib/python3.9/site-packages/qiskit/qasm/qasmparser.py:703\u001B[0m, in \u001B[0;36mQasmParser.p_unitary_op_2\u001B[0;34m(self, program)\u001B[0m\n\u001B[1;32m    699\u001B[0m \u001B[38;5;124;03m\"\"\"\u001B[39;00m\n\u001B[1;32m    700\u001B[0m \u001B[38;5;124;03munitary_op : id primary_list\u001B[39;00m\n\u001B[1;32m    701\u001B[0m \u001B[38;5;124;03m\"\"\"\u001B[39;00m\n\u001B[1;32m    702\u001B[0m program[\u001B[38;5;241m0\u001B[39m] \u001B[38;5;241m=\u001B[39m node\u001B[38;5;241m.\u001B[39mCustomUnitary([program[\u001B[38;5;241m1\u001B[39m], program[\u001B[38;5;241m2\u001B[39m]])\n\u001B[0;32m--> 703\u001B[0m \u001B[38;5;28;43mself\u001B[39;49m\u001B[38;5;241;43m.\u001B[39;49m\u001B[43mverify_as_gate\u001B[49m\u001B[43m(\u001B[49m\u001B[43mprogram\u001B[49m\u001B[43m[\u001B[49m\u001B[38;5;241;43m1\u001B[39;49m\u001B[43m]\u001B[49m\u001B[43m,\u001B[49m\u001B[43m \u001B[49m\u001B[43mprogram\u001B[49m\u001B[43m[\u001B[49m\u001B[38;5;241;43m2\u001B[39;49m\u001B[43m]\u001B[49m\u001B[43m)\u001B[49m\n\u001B[1;32m    704\u001B[0m \u001B[38;5;28mself\u001B[39m\u001B[38;5;241m.\u001B[39mverify_reg_list(program[\u001B[38;5;241m2\u001B[39m], \u001B[38;5;124m\"\u001B[39m\u001B[38;5;124mqreg\u001B[39m\u001B[38;5;124m\"\u001B[39m)\n\u001B[1;32m    705\u001B[0m \u001B[38;5;28mself\u001B[39m\u001B[38;5;241m.\u001B[39mverify_distinct([program[\u001B[38;5;241m2\u001B[39m]])\n",
      "File \u001B[0;32m~/Code/CMSC32900-project-quantum-compiler-benchmark/quantum-compiler-benchmark/venv/lib/python3.9/site-packages/qiskit/qasm/qasmparser.py:138\u001B[0m, in \u001B[0;36mQasmParser.verify_as_gate\u001B[0;34m(self, obj, bitlist, arglist)\u001B[0m\n\u001B[1;32m    136\u001B[0m \u001B[38;5;124;03m\"\"\"Verify a user defined gate call.\"\"\"\u001B[39;00m\n\u001B[1;32m    137\u001B[0m \u001B[38;5;28;01mif\u001B[39;00m obj\u001B[38;5;241m.\u001B[39mname \u001B[38;5;129;01mnot\u001B[39;00m \u001B[38;5;129;01min\u001B[39;00m \u001B[38;5;28mself\u001B[39m\u001B[38;5;241m.\u001B[39mglobal_symtab:\n\u001B[0;32m--> 138\u001B[0m     \u001B[38;5;28;01mraise\u001B[39;00m QasmError(\n\u001B[1;32m    139\u001B[0m         \u001B[38;5;124m\"\u001B[39m\u001B[38;5;124mCannot find gate definition for \u001B[39m\u001B[38;5;124m'\u001B[39m\u001B[38;5;124m\"\u001B[39m \u001B[38;5;241m+\u001B[39m obj\u001B[38;5;241m.\u001B[39mname \u001B[38;5;241m+\u001B[39m \u001B[38;5;124m\"\u001B[39m\u001B[38;5;124m'\u001B[39m\u001B[38;5;124m, line\u001B[39m\u001B[38;5;124m\"\u001B[39m,\n\u001B[1;32m    140\u001B[0m         \u001B[38;5;28mstr\u001B[39m(obj\u001B[38;5;241m.\u001B[39mline),\n\u001B[1;32m    141\u001B[0m         \u001B[38;5;124m\"\u001B[39m\u001B[38;5;124mfile\u001B[39m\u001B[38;5;124m\"\u001B[39m,\n\u001B[1;32m    142\u001B[0m         obj\u001B[38;5;241m.\u001B[39mfile,\n\u001B[1;32m    143\u001B[0m     )\n\u001B[1;32m    144\u001B[0m g_sym \u001B[38;5;241m=\u001B[39m \u001B[38;5;28mself\u001B[39m\u001B[38;5;241m.\u001B[39mglobal_symtab[obj\u001B[38;5;241m.\u001B[39mname]\n\u001B[1;32m    145\u001B[0m \u001B[38;5;28;01mif\u001B[39;00m g_sym\u001B[38;5;241m.\u001B[39mtype \u001B[38;5;129;01mnot\u001B[39;00m \u001B[38;5;129;01min\u001B[39;00m (\u001B[38;5;124m\"\u001B[39m\u001B[38;5;124mgate\u001B[39m\u001B[38;5;124m\"\u001B[39m, \u001B[38;5;124m\"\u001B[39m\u001B[38;5;124mopaque\u001B[39m\u001B[38;5;124m\"\u001B[39m):\n",
      "\u001B[0;31mQasmError\u001B[0m: \"Cannot find gate definition for 'ccz', line 16 file \""
     ]
    }
   ],
   "source": [
    "import time\n",
    "\n",
    "total_time = dict()\n",
    "total_gates = dict()\n",
    "total_cnot = dict()\n",
    "total_t_gates = dict()\n",
    "\n",
    "# Initalize\n",
    "for compiler_name_1 in compilers:\n",
    "    for compiler_name_2 in compilers:\n",
    "        total_time[compiler_name_1 + compiler_name_2] = 0\n",
    "        total_gates[compiler_name_1 + compiler_name_2] = 0\n",
    "        total_cnot[compiler_name_1 + compiler_name_2] = 0\n",
    "        total_t_gates[compiler_name_1 + compiler_name_2] = 0\n",
    "\n",
    "# Benchmark individually\n",
    "for benchmark_file in benchmark_files:\n",
    "    print(benchmark_file)\n",
    "    fh = open(benchmark_file, \"r\")\n",
    "    benchmark = fh.read()\n",
    "    fh.close()\n",
    "    assert not benchmark == \"\"\n",
    "    for compiler_name_1 in compilers:\n",
    "        for compiler_name_2 in compilers:\n",
    "            print(compiler_name_1)\n",
    "            print(compiler_name_2)\n",
    "            start = time.perf_counter()\n",
    "            opt_qasm = compilers[compiler_name_1](benchmark)\n",
    "            if compiler_name_1 != compiler_name_2:\n",
    "                opt_qasm = compilers[compiler_name_2](benchmark)\n",
    "            stop = time.perf_counter()\n",
    "            total_time[compiler_name_1 + compiler_name_2] += (stop - start)\n",
    "            total_gates[compiler_name_1 + compiler_name_2] += count_total_gates(opt_qasm)\n",
    "            total_cnot[compiler_name_1 + compiler_name_2] += count_cnot_gates(opt_qasm)\n",
    "            total_t_gates[compiler_name_1 + compiler_name_2] += count_t_gates(opt_qasm)\n",
    "print(total_time)"
   ],
   "metadata": {
    "collapsed": false,
    "pycharm": {
     "name": "#%%\n"
    }
   }
  },
  {
   "cell_type": "code",
   "execution_count": null,
   "outputs": [],
   "source": [],
   "metadata": {
    "collapsed": false,
    "pycharm": {
     "name": "#%%\n"
    }
   }
  }
 ],
 "metadata": {
  "kernelspec": {
   "display_name": "Python 3",
   "language": "python",
   "name": "python3"
  },
  "language_info": {
   "codemirror_mode": {
    "name": "ipython",
    "version": 2
   },
   "file_extension": ".py",
   "mimetype": "text/x-python",
   "name": "python",
   "nbconvert_exporter": "python",
   "pygments_lexer": "ipython2",
   "version": "2.7.6"
  }
 },
 "nbformat": 4,
 "nbformat_minor": 0
}